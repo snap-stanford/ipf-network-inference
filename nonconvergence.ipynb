{
 "cells": [
  {
   "cell_type": "code",
   "execution_count": 1,
   "metadata": {},
   "outputs": [],
   "source": [
    "%load_ext autoreload\n",
    "%autoreload 2"
   ]
  },
  {
   "cell_type": "code",
   "execution_count": 17,
   "metadata": {},
   "outputs": [],
   "source": [
    "from test_ipf import *\n",
    "from helper_methods_for_aggregate_data_analysis import *\n",
    "from model_experiments import *\n",
    "\n",
    "import matplotlib.pyplot as plt"
   ]
  },
  {
   "cell_type": "markdown",
   "metadata": {},
   "source": [
    "# Testing SafeGraph data"
   ]
  },
  {
   "cell_type": "code",
   "execution_count": 3,
   "metadata": {},
   "outputs": [
    {
     "name": "stdout",
     "output_type": "stream",
     "text": [
      "Loaded 9917 POI and 1098 CBG ids\n",
      "Loaded 16269 rows for Richmond_VA in 4.440 seconds\n",
      "Loaded 15546 rows for Richmond_VA in 9.955 seconds\n",
      "1. Processing SafeGraph data...\n",
      "Found 24 hours in all (2020.4.6.0 to 2020.4.6.23)\n",
      "Clipping areas: True (below=5, above=95), clipping dwell times: True (above=90), clipping visits: True (above=95)\n",
      "Found 121 sub-categories with >= 20 POIs and 43 top categories with >= 20 POIs -> covers 15870 POIs\n",
      "Could not cover 399/16269 POIs (2.5% POIs) -> dropping these POIs\n",
      "Accounting, Tax Preparation, Bookkeeping, and Payroll Services -> has 87 POIs, processed 7 POIs, 6 visits before clipping, 6 visits after clipping\n",
      "Activities Related to Credit Intermediation -> has 28 POIs, processed 28 POIs, 13 visits before clipping, 13 visits after clipping\n",
      "Automotive Equipment Rental and Leasing -> has 72 POIs, processed 16 POIs, 22 visits before clipping, 22 visits after clipping\n",
      "Automotive Parts, Accessories, and Tire Stores -> has 319 POIs, processed 10 POIs, 36 visits before clipping, 35 visits after clipping\n",
      "Automotive Repair and Maintenance -> has 682 POIs, processed 38 POIs, 58 visits before clipping, 57 visits after clipping\n",
      "Beverage Manufacturing -> has 63 POIs, processed 19 POIs, 22 visits before clipping, 22 visits after clipping\n",
      "Building Finishing Contractors -> has 42 POIs, processed 12 POIs, 7 visits before clipping, 7 visits after clipping\n",
      "Building Material and Supplies Dealers -> has 160 POIs, processed 21 POIs, 59 visits before clipping, 59 visits after clipping\n",
      "Clothing Stores -> has 217 POIs, processed 2 POIs, 0 visits before clipping, 0 visits after clipping\n",
      "Commercial and Industrial Machinery and Equipment Rental and Leasing -> has 21 POIs, processed 21 POIs, 47 visits before clipping, 46 visits after clipping\n",
      "Consumer Goods Rental -> has 55 POIs, processed 12 POIs, 32 visits before clipping, 31 visits after clipping\n",
      "Continuing Care Retirement Communities and Assisted Living Facilities for the Elderly -> has 77 POIs, processed 77 POIs, 180 visits before clipping, 173 visits after clipping\n",
      "Death Care Services -> has 29 POIs, processed 2 POIs, 2 visits before clipping, 2 visits after clipping\n",
      "Electric Power Generation, Transmission and Distribution -> has 25 POIs, processed 25 POIs, 33 visits before clipping, 33 visits after clipping\n",
      "Electronics and Appliance Stores -> has 113 POIs, processed 10 POIs, 9 visits before clipping, 9 visits after clipping\n",
      "Hardware, and Plumbing and Heating Equipment and Supplies Merchant Wholesalers -> has 54 POIs, processed 13 POIs, 47 visits before clipping, 46 visits after clipping\n",
      "Health and Personal Care Stores -> has 357 POIs, processed 12 POIs, 20 visits before clipping, 19 visits after clipping\n",
      "Individual and Family Services -> has 54 POIs, processed 25 POIs, 60 visits before clipping, 57 visits after clipping\n",
      "Jewelry, Luggage, and Leather Goods Stores -> has 59 POIs, processed 6 POIs, 12 visits before clipping, 12 visits after clipping\n",
      "Justice, Public Order, and Safety Activities -> has 170 POIs, processed 15 POIs, 26 visits before clipping, 25 visits after clipping\n",
      "Lawn and Garden Equipment and Supplies Stores -> has 58 POIs, processed 16 POIs, 81 visits before clipping, 78 visits after clipping\n",
      "Lessors of Real Estate -> has 50 POIs, processed 3 POIs, 19 visits before clipping, 18 visits after clipping\n",
      "Machinery, Equipment, and Supplies Merchant Wholesalers -> has 50 POIs, processed 50 POIs, 137 visits before clipping, 133 visits after clipping\n",
      "Management, Scientific, and Technical Consulting Services -> has 69 POIs, processed 69 POIs, 36 visits before clipping, 35 visits after clipping\n",
      "Medical and Diagnostic Laboratories -> has 56 POIs, processed 6 POIs, 10 visits before clipping, 10 visits after clipping\n",
      "Miscellaneous Durable Goods Merchant Wholesalers -> has 46 POIs, processed 10 POIs, 23 visits before clipping, 23 visits after clipping\n",
      "Motion Picture and Video Industries -> has 25 POIs, processed 2 POIs, 0 visits before clipping, 0 visits after clipping\n",
      "Museums, Historical Sites, and Similar Institutions -> has 353 POIs, processed 5 POIs, 4 visits before clipping, 4 visits after clipping\n",
      "Nondepository Credit Intermediation -> has 41 POIs, processed 14 POIs, 54 visits before clipping, 53 visits after clipping\n",
      "Offices of Other Health Practitioners -> has 459 POIs, processed 18 POIs, 15 visits before clipping, 15 visits after clipping\n",
      "Other Ambulatory Health Care Services -> has 54 POIs, processed 13 POIs, 33 visits before clipping, 33 visits after clipping\n",
      "Other Amusement and Recreation Industries -> has 481 POIs, processed 21 POIs, 57 visits before clipping, 57 visits after clipping\n",
      "Other Miscellaneous Store Retailers -> has 232 POIs, processed 16 POIs, 13 visits before clipping, 13 visits after clipping\n",
      "Other Motor Vehicle Dealers -> has 54 POIs, processed 23 POIs, 55 visits before clipping, 55 visits after clipping\n",
      "Other Personal Services -> has 102 POIs, processed 14 POIs, 37 visits before clipping, 37 visits after clipping\n",
      "Other Schools and Instruction -> has 218 POIs, processed 2 POIs, 1 visits before clipping, 1 visits after clipping\n",
      "Outpatient Care Centers -> has 52 POIs, processed 24 POIs, 72 visits before clipping, 67 visits after clipping\n",
      "Personal and Household Goods Repair and Maintenance -> has 64 POIs, processed 37 POIs, 51 visits before clipping, 50 visits after clipping\n",
      "Printing and Related Support Activities -> has 25 POIs, processed 25 POIs, 71 visits before clipping, 70 visits after clipping\n",
      "Restaurants and Other Eating Places -> has 2487 POIs, processed 1 POIs, 10 visits before clipping, 10 visits after clipping\n",
      "Specialized Freight Trucking -> has 28 POIs, processed 2 POIs, 0 visits before clipping, 0 visits after clipping\n",
      "Specialty Food Stores -> has 77 POIs, processed 19 POIs, 27 visits before clipping, 27 visits after clipping\n",
      "Waste Treatment and Disposal -> has 21 POIs, processed 1 POIs, 0 visits before clipping, 0 visits after clipping\n",
      "All Other Amusement and Recreation Industries -> has 92 POIs, processed 92 POIs, 185 visits before clipping, 182 visits after clipping\n",
      "All Other Consumer Goods Rental -> has 43 POIs, processed 43 POIs, 59 visits before clipping, 58 visits after clipping\n",
      "All Other General Merchandise Stores -> has 159 POIs, processed 159 POIs, 2266 visits before clipping, 2142 visits after clipping\n",
      "All Other Home Furnishings Stores -> has 46 POIs, processed 46 POIs, 76 visits before clipping, 75 visits after clipping\n",
      "All Other Miscellaneous Ambulatory Health Care Services -> has 41 POIs, processed 41 POIs, 65 visits before clipping, 64 visits after clipping\n",
      "All Other Miscellaneous Schools and Instruction -> has 23 POIs, processed 23 POIs, 37 visits before clipping, 37 visits after clipping\n",
      "All Other Miscellaneous Store Retailers (except Tobacco Stores) -> has 21 POIs, processed 21 POIs, 56 visits before clipping, 55 visits after clipping\n",
      "All Other Personal Services -> has 23 POIs, processed 23 POIs, 5 visits before clipping, 5 visits after clipping\n",
      "Automobile Driving Schools -> has 59 POIs, processed 59 POIs, 148 visits before clipping, 146 visits after clipping\n",
      "Automotive Body, Paint, and Interior Repair and Maintenance -> has 137 POIs, processed 137 POIs, 167 visits before clipping, 163 visits after clipping\n",
      "Automotive Glass Replacement Shops -> has 44 POIs, processed 44 POIs, 86 visits before clipping, 84 visits after clipping\n",
      "Automotive Oil Change and Lubrication Shops -> has 20 POIs, processed 20 POIs, 15 visits before clipping, 15 visits after clipping\n",
      "Automotive Parts and Accessories Stores -> has 309 POIs, processed 309 POIs, 879 visits before clipping, 851 visits after clipping\n",
      "Barber Shops -> has 55 POIs, processed 55 POIs, 29 visits before clipping, 29 visits after clipping\n",
      "Beauty Salons -> has 312 POIs, processed 312 POIs, 149 visits before clipping, 146 visits after clipping\n",
      "Beer, Wine, and Liquor Stores -> has 53 POIs, processed 53 POIs, 153 visits before clipping, 150 visits after clipping\n",
      "Book Stores -> has 35 POIs, processed 35 POIs, 97 visits before clipping, 95 visits after clipping\n",
      "Breweries -> has 44 POIs, processed 44 POIs, 70 visits before clipping, 69 visits after clipping\n",
      "Car Washes -> has 80 POIs, processed 80 POIs, 112 visits before clipping, 109 visits after clipping\n",
      "Child Day Care Services -> has 515 POIs, processed 515 POIs, 711 visits before clipping, 689 visits after clipping\n",
      "Children's and Infants' Clothing Stores -> has 22 POIs, processed 22 POIs, 13 visits before clipping, 13 visits after clipping\n",
      "Colleges, Universities, and Professional Schools -> has 44 POIs, processed 44 POIs, 134 visits before clipping, 130 visits after clipping\n",
      "Commercial Banking -> has 350 POIs, processed 350 POIs, 598 visits before clipping, 587 visits after clipping\n",
      "Consumer Electronics Repair and Maintenance -> has 21 POIs, processed 21 POIs, 27 visits before clipping, 27 visits after clipping\n",
      "Consumer Lending -> has 27 POIs, processed 27 POIs, 24 visits before clipping, 24 visits after clipping\n"
     ]
    },
    {
     "name": "stdout",
     "output_type": "stream",
     "text": [
      "Convenience Stores -> has 164 POIs, processed 164 POIs, 1720 visits before clipping, 1660 visits after clipping\n",
      "Correctional Institutions -> has 28 POIs, processed 28 POIs, 132 visits before clipping, 130 visits after clipping\n",
      "Cosmetics, Beauty Supplies, and Perfume Stores -> has 65 POIs, processed 65 POIs, 49 visits before clipping, 48 visits after clipping\n",
      "Couriers and Express Delivery Services -> has 24 POIs, processed 24 POIs, 161 visits before clipping, 157 visits after clipping\n",
      "Department Stores -> has 51 POIs, processed 51 POIs, 126 visits before clipping, 124 visits after clipping\n",
      "Diet and Weight Reducing Centers -> has 29 POIs, processed 29 POIs, 28 visits before clipping, 28 visits after clipping\n",
      "Drinking Places (Alcoholic Beverages) -> has 126 POIs, processed 126 POIs, 303 visits before clipping, 281 visits after clipping\n",
      "Electronics Stores -> has 103 POIs, processed 103 POIs, 206 visits before clipping, 203 visits after clipping\n",
      "Elementary and Secondary Schools -> has 320 POIs, processed 320 POIs, 592 visits before clipping, 582 visits after clipping\n",
      "Exam Preparation and Tutoring -> has 31 POIs, processed 31 POIs, 31 visits before clipping, 30 visits after clipping\n",
      "Family Clothing Stores -> has 46 POIs, processed 46 POIs, 87 visits before clipping, 83 visits after clipping\n",
      "Fire Protection -> has 94 POIs, processed 94 POIs, 177 visits before clipping, 174 visits after clipping\n",
      "Fish and Seafood Markets -> has 27 POIs, processed 27 POIs, 105 visits before clipping, 103 visits after clipping\n",
      "Fitness and Recreational Sports Centers -> has 330 POIs, processed 330 POIs, 1008 visits before clipping, 974 visits after clipping\n",
      "Floor Covering Stores -> has 23 POIs, processed 23 POIs, 56 visits before clipping, 54 visits after clipping\n",
      "Florists -> has 62 POIs, processed 62 POIs, 220 visits before clipping, 208 visits after clipping\n",
      "Food (Health) Supplement Stores -> has 34 POIs, processed 34 POIs, 60 visits before clipping, 59 visits after clipping\n",
      "Fruit and Vegetable Markets -> has 31 POIs, processed 31 POIs, 53 visits before clipping, 52 visits after clipping\n",
      "Full-Service Restaurants -> has 1340 POIs, processed 1340 POIs, 3254 visits before clipping, 3132 visits after clipping\n",
      "Funeral Homes and Funeral Services -> has 27 POIs, processed 27 POIs, 20 visits before clipping, 20 visits after clipping\n",
      "Furniture Stores -> has 117 POIs, processed 117 POIs, 209 visits before clipping, 200 visits after clipping\n",
      "Gasoline Stations with Convenience Stores -> has 416 POIs, processed 416 POIs, 2503 visits before clipping, 2305 visits after clipping\n",
      "General Automotive Repair -> has 363 POIs, processed 363 POIs, 434 visits before clipping, 429 visits after clipping\n",
      "General Medical and Surgical Hospitals -> has 21 POIs, processed 21 POIs, 93 visits before clipping, 89 visits after clipping\n",
      "General Warehousing and Storage -> has 23 POIs, processed 23 POIs, 9 visits before clipping, 9 visits after clipping\n",
      "Gift, Novelty, and Souvenir Stores -> has 55 POIs, processed 55 POIs, 90 visits before clipping, 88 visits after clipping\n",
      "Golf Courses and Country Clubs -> has 38 POIs, processed 38 POIs, 619 visits before clipping, 604 visits after clipping\n",
      "Hardware Stores -> has 90 POIs, processed 90 POIs, 1830 visits before clipping, 1773 visits after clipping\n",
      "Hazardous Waste Treatment and Disposal -> has 20 POIs, processed 20 POIs, 37 visits before clipping, 37 visits after clipping\n",
      "Historical Sites -> has 73 POIs, processed 73 POIs, 142 visits before clipping, 140 visits after clipping\n",
      "Hobby, Toy, and Game Stores -> has 54 POIs, processed 54 POIs, 163 visits before clipping, 157 visits after clipping\n",
      "Home Health Care Services -> has 81 POIs, processed 81 POIs, 109 visits before clipping, 107 visits after clipping\n",
      "Hotels (except Casino Hotels) and Motels -> has 188 POIs, processed 188 POIs, 765 visits before clipping, 749 visits after clipping\n",
      "Insurance Agencies and Brokerages -> has 346 POIs, processed 346 POIs, 213 visits before clipping, 209 visits after clipping\n",
      "Investment Advice -> has 101 POIs, processed 101 POIs, 73 visits before clipping, 71 visits after clipping\n",
      "Jewelry Stores -> has 53 POIs, processed 53 POIs, 94 visits before clipping, 92 visits after clipping\n",
      "Kidney Dialysis Centers -> has 28 POIs, processed 28 POIs, 29 visits before clipping, 29 visits after clipping\n",
      "Lessors of Miniwarehouses and Self-Storage Units -> has 47 POIs, processed 47 POIs, 36 visits before clipping, 35 visits after clipping\n",
      "Libraries and Archives -> has 56 POIs, processed 56 POIs, 106 visits before clipping, 103 visits after clipping\n",
      "Limited-Service Restaurants -> has 827 POIs, processed 827 POIs, 5205 visits before clipping, 4818 visits after clipping\n",
      "Medical Laboratories -> has 50 POIs, processed 50 POIs, 49 visits before clipping, 48 visits after clipping\n",
      "Men's Clothing Stores -> has 23 POIs, processed 23 POIs, 34 visits before clipping, 33 visits after clipping\n",
      "Miscellaneous Financial Investment Activities -> has 26 POIs, processed 26 POIs, 11 visits before clipping, 11 visits after clipping\n",
      "Motion Picture Theaters (except Drive-Ins) -> has 23 POIs, processed 23 POIs, 32 visits before clipping, 31 visits after clipping\n",
      "Motor Vehicle Towing -> has 87 POIs, processed 87 POIs, 92 visits before clipping, 90 visits after clipping\n",
      "Motorcycle, ATV, and All Other Motor Vehicle Dealers -> has 31 POIs, processed 31 POIs, 118 visits before clipping, 115 visits after clipping\n",
      "Museums -> has 38 POIs, processed 38 POIs, 101 visits before clipping, 98 visits after clipping\n",
      "Musical Instrument and Supplies Stores -> has 45 POIs, processed 45 POIs, 93 visits before clipping, 90 visits after clipping\n",
      "Nail Salons -> has 92 POIs, processed 92 POIs, 13 visits before clipping, 12 visits after clipping\n",
      "Nature Parks and Other Similar Institutions -> has 237 POIs, processed 237 POIs, 725 visits before clipping, 700 visits after clipping\n",
      "New Car Dealers -> has 76 POIs, processed 76 POIs, 580 visits before clipping, 560 visits after clipping\n",
      "Nursery, Garden Center, and Farm Supply Stores -> has 42 POIs, processed 42 POIs, 67 visits before clipping, 66 visits after clipping\n",
      "Nursing Care Facilities (Skilled Nursing Facilities) -> has 65 POIs, processed 65 POIs, 267 visits before clipping, 256 visits after clipping\n",
      "Office Supplies and Stationery Stores -> has 55 POIs, processed 55 POIs, 294 visits before clipping, 289 visits after clipping\n",
      "Offices of All Other Miscellaneous Health Practitioners -> has 77 POIs, processed 77 POIs, 98 visits before clipping, 95 visits after clipping\n",
      "Offices of Chiropractors -> has 88 POIs, processed 88 POIs, 102 visits before clipping, 99 visits after clipping\n",
      "Offices of Dentists -> has 508 POIs, processed 508 POIs, 417 visits before clipping, 406 visits after clipping\n",
      "Offices of Mental Health Practitioners (except Physicians) -> has 204 POIs, processed 204 POIs, 186 visits before clipping, 178 visits after clipping\n",
      "Offices of Physical, Occupational and Speech Therapists, and Audiologists -> has 72 POIs, processed 72 POIs, 148 visits before clipping, 136 visits after clipping\n",
      "Offices of Physicians (except Mental Health Specialists) -> has 802 POIs, processed 802 POIs, 1781 visits before clipping, 1561 visits after clipping\n",
      "Offices of Real Estate Agents and Brokers -> has 125 POIs, processed 125 POIs, 80 visits before clipping, 80 visits after clipping\n",
      "Optical Goods Stores -> has 109 POIs, processed 109 POIs, 258 visits before clipping, 249 visits after clipping\n",
      "Other Building Finishing Contractors -> has 30 POIs, processed 30 POIs, 44 visits before clipping, 43 visits after clipping\n",
      "Other Clothing Stores -> has 20 POIs, processed 20 POIs, 53 visits before clipping, 53 visits after clipping\n",
      "Other Personal Care Services -> has 177 POIs, processed 177 POIs, 130 visits before clipping, 127 visits after clipping\n",
      "Other Personal and Household Goods Repair and Maintenance -> has 27 POIs, processed 27 POIs, 37 visits before clipping, 36 visits after clipping\n",
      "Paint and Wallpaper Stores -> has 49 POIs, processed 49 POIs, 103 visits before clipping, 100 visits after clipping\n",
      "Passenger Car Rental -> has 56 POIs, processed 56 POIs, 35 visits before clipping, 34 visits after clipping\n",
      "Pet Care (except Veterinary) Services -> has 65 POIs, processed 65 POIs, 145 visits before clipping, 136 visits after clipping\n",
      "Pet and Pet Supplies Stores -> has 125 POIs, processed 125 POIs, 444 visits before clipping, 430 visits after clipping\n",
      "Pharmacies and Drug Stores -> has 137 POIs, processed 137 POIs, 594 visits before clipping, 577 visits after clipping\n",
      "Photography Studios, Portrait -> has 27 POIs, processed 27 POIs, 21 visits before clipping, 21 visits after clipping\n",
      "Plumbing, Heating, and Air-Conditioning Contractors -> has 40 POIs, processed 40 POIs, 48 visits before clipping, 48 visits after clipping\n",
      "Police Protection -> has 33 POIs, processed 33 POIs, 42 visits before clipping, 41 visits after clipping\n",
      "Postal Service -> has 80 POIs, processed 80 POIs, 305 visits before clipping, 297 visits after clipping\n",
      "Regulation and Administration of Transportation Programs -> has 24 POIs, processed 24 POIs, 32 visits before clipping, 32 visits after clipping\n",
      "Religious Organizations -> has 919 POIs, processed 919 POIs, 671 visits before clipping, 656 visits after clipping\n",
      "Retail Bakeries -> has 71 POIs, processed 71 POIs, 79 visits before clipping, 78 visits after clipping\n",
      "Services for the Elderly and Persons with Disabilities -> has 29 POIs, processed 29 POIs, 52 visits before clipping, 51 visits after clipping\n",
      "Sewing, Needlework, and Piece Goods Stores -> has 31 POIs, processed 31 POIs, 103 visits before clipping, 99 visits after clipping\n",
      "Shoe Stores -> has 49 POIs, processed 49 POIs, 74 visits before clipping, 71 visits after clipping\n",
      "Snack and Nonalcoholic Beverage Bars -> has 319 POIs, processed 319 POIs, 1558 visits before clipping, 1370 visits after clipping\n"
     ]
    },
    {
     "name": "stdout",
     "output_type": "stream",
     "text": [
      "Specialty (except Psychiatric and Substance Abuse) Hospitals -> has 49 POIs, processed 49 POIs, 130 visits before clipping, 127 visits after clipping\n",
      "Sporting Goods Stores -> has 99 POIs, processed 99 POIs, 352 visits before clipping, 337 visits after clipping\n",
      "Sporting and Recreational Goods and Supplies Merchant Wholesalers -> has 36 POIs, processed 36 POIs, 49 visits before clipping, 49 visits after clipping\n",
      "Sports and Recreation Instruction -> has 103 POIs, processed 103 POIs, 306 visits before clipping, 292 visits after clipping\n",
      "Supermarkets and Other Grocery (except Convenience) Stores -> has 288 POIs, processed 288 POIs, 1845 visits before clipping, 1727 visits after clipping\n",
      "Tax Preparation Services -> has 80 POIs, processed 80 POIs, 94 visits before clipping, 92 visits after clipping\n",
      "Tobacco Stores -> has 70 POIs, processed 70 POIs, 252 visits before clipping, 238 visits after clipping\n",
      "Used Car Dealers -> has 101 POIs, processed 101 POIs, 190 visits before clipping, 186 visits after clipping\n",
      "Used Household and Office Goods Moving -> has 26 POIs, processed 26 POIs, 59 visits before clipping, 57 visits after clipping\n",
      "Used Merchandise Stores -> has 170 POIs, processed 170 POIs, 526 visits before clipping, 503 visits after clipping\n",
      "Veterinary Services -> has 134 POIs, processed 134 POIs, 168 visits before clipping, 164 visits after clipping\n",
      "Warm Air Heating and Air-Conditioning Equipment and Supplies Merchant Wholesalers -> has 41 POIs, processed 41 POIs, 67 visits before clipping, 66 visits after clipping\n",
      "Wireless Telecommunications Carriers (except Satellite) -> has 97 POIs, processed 97 POIs, 38 visits before clipping, 38 visits after clipping\n",
      "Women's Clothing Stores -> has 104 POIs, processed 104 POIs, 96 visits before clipping, 95 visits after clipping\n",
      "After clipping, 15870 POIs\n",
      "Received 9917 pre-specified POI ids -> missing 0 in dataframe\n",
      "21312 / 238008 hours are null -> filling with 0\n",
      "220333 rows of 2018 1-year ACS data read\n",
      "217739 rows of 2017 5-year ACS data read\n",
      "Received 1098 pre-specified CBG ids\n",
      "FINAL: number of CBGs (N) = 1098, number of POIs (M) = 9917\n",
      "Num connected POI-CBG pairs (E) = 876673, network density (E/N) = 798.427\n",
      "Dwell time correction factors: mean = 0.16, min = 0.01, max = 0.80\n",
      "Correcting POI hourly visit vectors...\n",
      "After correcting, 57683.66 hourly visits\n",
      "Removing 0.617% of people from SafeGraph count who are not in 50 states or DC\n",
      "Total US population from ACS: 322903030; total safegraph visitor count: 46554310; correction factor for POI visits is 6.936\n",
      "2. Processing ACS data...\n",
      "CBGs: median population size = 1590, sum of population sizes = 2048200\n",
      "Attribute p_black: was able to compute for 100.0% out of 1098 CBGs, median is 0.204\n",
      "Attribute p_white: was able to compute for 100.0% out of 1098 CBGs, median is 0.667\n",
      "Attribute median_household_income: was able to compute for 97.6% out of 1098 CBGs, median is 60887.000\n",
      "Loading social distancing metrics for 1 datetimes; using version v2\n",
      "Total time to load social distancing metrics: 4.970 seconds; total rows 219253\n",
      "Giving model daily proportion out for 2020.4.6 to 2020.4.6\n",
      "Total time to prep data: 10.911s\n",
      "1.5% of POIs have at least 50% of visitors coming from non-modeled CBGs\n",
      "Adjusted POI transmission rates with dwell time correction factors\n",
      "Received daily proportions out per CBG\n",
      "Date: 2020-04-06-00, marginals prop positive -> POIs = 0.019, CBGs = 1.000\n"
     ]
    }
   ],
   "source": [
    "# hour where we know it didn't converge\n",
    "msa_name = 'Richmond_VA'\n",
    "dt = datetime.datetime(2020, 4, 6, 0)\n",
    "msa_df_date_range = '20200302_20200608'\n",
    "Z, u, v = prep_safegraph_data_for_ipf(msa_name, dt, msa_df_date_range)\n",
    "print('Date: %s, marginals prop positive -> POIs = %.3f, CBGs = %.3f' % (\n",
    "    dt.strftime('%Y-%m-%d-%H'), np.mean(u > 0), np.mean(v > 0)))"
   ]
  },
  {
   "cell_type": "code",
   "execution_count": 7,
   "metadata": {
    "scrolled": true
   },
   "outputs": [
    {
     "name": "stderr",
     "output_type": "stream",
     "text": [
      "/dfs/scratch0/serinac/ipf/test_ipf.py:635: DeprecationWarning: invalid escape sequence \\l\n",
      "  ipf_row_label = '\\log(d^0_i)'\n",
      "/dfs/scratch0/serinac/ipf/test_ipf.py:636: DeprecationWarning: invalid escape sequence \\l\n",
      "  ipf_col_label = '\\log(d^1_j)'\n",
      "/dfs/scratch0/serinac/ipf/test_ipf.py:650: DeprecationWarning: invalid escape sequence \\e\n",
      "  reg_row_label = '\\exp(\\\\theta_i)'\n",
      "/dfs/scratch0/serinac/ipf/test_ipf.py:651: DeprecationWarning: invalid escape sequence \\e\n",
      "  reg_col_label = '\\exp(\\\\theta_j)'\n",
      "/dfs/scratch0/serinac/ipf/test_ipf.py:652: DeprecationWarning: invalid escape sequence \\e\n",
      "  true_row_label = '\\exp(u_i)'\n",
      "/dfs/scratch0/serinac/ipf/test_ipf.py:653: DeprecationWarning: invalid escape sequence \\e\n",
      "  true_col_label = '\\exp(-v_j)'\n"
     ]
    },
    {
     "name": "stdout",
     "output_type": "stream",
     "text": [
      "Iter 0: row err = 0.0000, col err = 981.2367\n",
      "Iter 1: row err = 456.1943, col err = 2.2921\n",
      "Iter 2: row err = 0.0000, col err = 307.8219\n",
      "Iter 3: row err = 215.1689, col err = 2.2921\n",
      "Iter 4: row err = 0.0000, col err = 156.8088\n",
      "Iter 5: row err = 115.6503, col err = 2.2921\n",
      "Iter 6: row err = 0.0000, col err = 88.6890\n",
      "Iter 7: row err = 66.4971, col err = 2.2921\n",
      "Iter 8: row err = 0.0000, col err = 53.2926\n",
      "Iter 9: row err = 39.6974, col err = 2.2921\n",
      "Iter 10: row err = 0.0000, col err = 33.3618\n",
      "Iter 11: row err = 24.2806, col err = 2.2921\n",
      "Iter 12: row err = 0.0000, col err = 21.5807\n",
      "Iter 13: row err = 15.1264, col err = 2.2921\n",
      "Iter 14: row err = 0.0000, col err = 14.4402\n",
      "Iter 15: row err = 9.6130, col err = 2.2921\n",
      "Iter 16: row err = 0.0000, col err = 10.0692\n",
      "Iter 17: row err = 6.2434, col err = 2.2921\n",
      "Iter 18: row err = 0.0000, col err = 7.4167\n",
      "Iter 19: row err = 4.2001, col err = 2.2921\n",
      "Iter 20: row err = 0.0000, col err = 5.8716\n",
      "Iter 21: row err = 3.0751, col err = 2.2921\n",
      "Iter 22: row err = 0.0000, col err = 5.0718\n",
      "Iter 23: row err = 2.5660, col err = 2.2921\n",
      "Iter 24: row err = 0.0000, col err = 4.7461\n",
      "Iter 25: row err = 2.3882, col err = 2.2921\n",
      "Iter 26: row err = 0.0000, col err = 4.6403\n",
      "Iter 27: row err = 2.3317, col err = 2.2921\n",
      "Iter 28: row err = 0.0000, col err = 4.6076\n",
      "Iter 29: row err = 2.3050, col err = 2.2921\n",
      "Iter 30: row err = 0.0000, col err = 4.5919\n",
      "Iter 31: row err = 2.2929, col err = 2.2921\n",
      "Iter 32: row err = 0.0000, col err = 4.5847\n",
      "Iter 33: row err = 2.2921, col err = 2.2921\n",
      "Iter 34: row err = 0.0000, col err = 4.5842\n",
      "Iter 35: row err = 2.2921, col err = 2.2921\n",
      "Iter 36: row err = 0.0000, col err = 4.5842\n",
      "Iter 37: row err = 2.2921, col err = 2.2921\n",
      "Iter 38: row err = 0.0000, col err = 4.5842\n",
      "Iter 39: row err = 2.2921, col err = 2.2921\n",
      "Iter 40: row err = 0.0000, col err = 4.5842\n",
      "Iter 41: row err = 2.2921, col err = 2.2921\n",
      "Iter 42: row err = 0.0000, col err = 4.5842\n",
      "Iter 43: row err = 2.2921, col err = 2.2921\n",
      "Iter 44: row err = 0.0000, col err = 4.5842\n",
      "Iter 45: row err = 2.2921, col err = 2.2921\n",
      "Iter 46: row err = 0.0000, col err = 4.5842\n",
      "Iter 47: row err = 2.2921, col err = 2.2921\n",
      "Iter 48: row err = 0.0000, col err = 4.5842\n",
      "Iter 49: row err = 2.2921, col err = 2.2921\n",
      "Iter 50: row err = 0.0000, col err = 4.5842\n",
      "Iter 51: row err = 2.2921, col err = 2.2921\n",
      "Iter 52: row err = 0.0000, col err = 4.5842\n",
      "Iter 53: row err = 2.2921, col err = 2.2921\n",
      "Iter 54: row err = 0.0000, col err = 4.5842\n",
      "Iter 55: row err = 2.2921, col err = 2.2921\n",
      "Iter 56: row err = 0.0000, col err = 4.5842\n",
      "Iter 57: row err = 2.2921, col err = 2.2921\n",
      "Iter 58: row err = 0.0000, col err = 4.5842\n",
      "Iter 59: row err = 2.2921, col err = 2.2921\n",
      "Iter 60: row err = 0.0000, col err = 4.5842\n",
      "Stuck in oscillation; stopping after 60 iterations\n"
     ]
    }
   ],
   "source": [
    "# run IPF\n",
    "i, row_factors, col_factors, row_errs, col_errs = do_ipf(Z, u, v, return_all_factors=True)"
   ]
  },
  {
   "cell_type": "code",
   "execution_count": 37,
   "metadata": {},
   "outputs": [
    {
     "name": "stdout",
     "output_type": "stream",
     "text": [
      "Num rows not matched: 0\n",
      "Num cols not matched: 1098\n",
      "row error: 0.0000, col error: 4.5842\n"
     ]
    },
    {
     "data": {
      "image/png": "[encoded data removed]",
      "text/plain": [
       "<Figure size 720x360 with 2 Axes>"
      ]
     },
     "metadata": {
      "needs_background": "light"
     },
     "output_type": "display_data"
    }
   ],
   "source": [
    "# 3 iterations from the end\n",
    "i = -3\n",
    "est_M_3 = np.diag(row_factors[i]) @ Z @ np.diag(col_factors[i])\n",
    "row_sums = np.sum(est_M_3, axis=1)\n",
    "print('Num rows not matched:', (~np.isclose(row_sums, u)).sum())\n",
    "col_sums = np.sum(est_M_3, axis=0)\n",
    "print('Num cols not matched:', (~np.isclose(col_sums, v)).sum())\n",
    "\n",
    "fig, axes = plt.subplots(1, 2, figsize=(10, 5))\n",
    "axes[0].scatter(row_sums[u > 0], u[u > 0])\n",
    "axes[0].plot(row_sums, row_sums)\n",
    "axes[0].set_xlabel('Est row marginals', fontsize=12)\n",
    "axes[0].set_ylabel('Target row marginals', fontsize=12)\n",
    "\n",
    "axes[1].scatter(col_sums[v > 0], v[v > 0])\n",
    "axes[1].plot(col_sums, col_sums)\n",
    "axes[1].set_xlabel('Est col marginals', fontsize=12)\n",
    "axes[1].set_ylabel('Target col marginals', fontsize=12)\n",
    "\n",
    "row_err = np.sum(np.abs(u - row_sums))\n",
    "col_err = np.sum(np.abs(v - col_sums))\n",
    "print('row error: %.4f, col error: %.4f' % (row_err, col_err))"
   ]
  },
  {
   "cell_type": "code",
   "execution_count": 38,
   "metadata": {},
   "outputs": [
    {
     "name": "stdout",
     "output_type": "stream",
     "text": [
      "Num rows not matched: 192\n",
      "Num cols not matched: 2\n",
      "row error: 2.2921, col error: 2.2921\n"
     ]
    },
    {
     "data": {
      "image/png": "[encoded data removed]",
      "text/plain": [
       "<Figure size 720x360 with 2 Axes>"
      ]
     },
     "metadata": {
      "needs_background": "light"
     },
     "output_type": "display_data"
    }
   ],
   "source": [
    "# seems like it is literally impossible to match the CBG marginals\n",
    "# this is because the CBGs have nonzero marginals and all their POIs have zeros\n",
    "i = -2\n",
    "est_M_2 = np.diag(row_factors[i]) @ Z @ np.diag(col_factors[i])\n",
    "row_sums = np.sum(est_M_2, axis=1)\n",
    "print('Num rows not matched:', (~np.isclose(row_sums, u)).sum())\n",
    "col_sums = np.sum(est_M_2, axis=0)\n",
    "print('Num cols not matched:', (~np.isclose(col_sums, v)).sum())\n",
    "\n",
    "fig, axes = plt.subplots(1, 2, figsize=(10, 5))\n",
    "axes[0].scatter(row_sums[u > 0], u[u > 0])\n",
    "axes[0].plot(row_sums, row_sums)\n",
    "axes[0].set_xlabel('Est row marginals', fontsize=12)\n",
    "axes[0].set_ylabel('Target row marginals', fontsize=12)\n",
    "\n",
    "axes[1].scatter(col_sums[v > 0], v[v > 0])\n",
    "axes[1].plot(col_sums, col_sums)\n",
    "axes[1].set_xlabel('Est col marginals', fontsize=12)\n",
    "axes[1].set_ylabel('Target col marginals', fontsize=12)\n",
    "\n",
    "row_err = np.sum(np.abs(u - row_sums))\n",
    "col_err = np.sum(np.abs(v - col_sums))\n",
    "print('row error: %.4f, col error: %.4f' % (row_err, col_err))"
   ]
  },
  {
   "cell_type": "code",
   "execution_count": 43,
   "metadata": {},
   "outputs": [
    {
     "name": "stdout",
     "output_type": "stream",
     "text": [
      "CBG 688: target marginal = 0.2689, est marginal = 0.0000\n",
      "POIs: num nonzero = 167, sum of target marginals = 0\n",
      "CBG 720: target marginal = 2.0232, est marginal = 0.0000\n",
      "POIs: num nonzero = 13, sum of target marginals = 0\n"
     ]
    }
   ],
   "source": [
    "col_idx = np.arange(len(v))[~np.isclose(col_sums, v)]\n",
    "for idx in col_idx:\n",
    "    print('CBG %d: target marginal = %.4f, est marginal = %.4f' % (idx, v[idx], col_sums[idx]))\n",
    "    nonzero_pois = Z[:, idx] > 0\n",
    "    print('POIs: num nonzero = %d, sum of target marginals = %d' % (nonzero_pois.sum(), u[nonzero_pois].sum()))"
   ]
  },
  {
   "cell_type": "code",
   "execution_count": 4,
   "metadata": {},
   "outputs": [
    {
     "name": "stdout",
     "output_type": "stream",
     "text": [
      "Found 1098 sets of size 1\n",
      "Finished checks for this set size [time = 0.036s]\n",
      "Found 2 violations\n",
      "CBGs: [688] -> CBG total = 0.2689, POI total = 0.0000\n",
      "CBGs: [720] -> CBG total = 2.0232, POI total = 0.0000\n"
     ]
    }
   ],
   "source": [
    "sets, set_cbg_marginals, set_poi_marginals = test_ipf_convergence_from_cbg_subsets(Z, u, v)"
   ]
  },
  {
   "cell_type": "code",
   "execution_count": 5,
   "metadata": {},
   "outputs": [
    {
     "name": "stdout",
     "output_type": "stream",
     "text": [
      "Loaded 9917 POI and 1098 CBG ids\n",
      "Loaded 16269 rows for Richmond_VA in 4.030 seconds\n",
      "Loaded 15546 rows for Richmond_VA in 9.926 seconds\n",
      "1. Processing SafeGraph data...\n",
      "Found 24 hours in all (2020.4.6.0 to 2020.4.6.23)\n",
      "Clipping areas: True (below=5, above=95), clipping dwell times: True (above=90), clipping visits: True (above=95)\n",
      "Found 121 sub-categories with >= 20 POIs and 43 top categories with >= 20 POIs -> covers 15870 POIs\n",
      "Could not cover 399/16269 POIs (2.5% POIs) -> dropping these POIs\n",
      "Accounting, Tax Preparation, Bookkeeping, and Payroll Services -> has 87 POIs, processed 7 POIs, 6 visits before clipping, 6 visits after clipping\n",
      "Activities Related to Credit Intermediation -> has 28 POIs, processed 28 POIs, 13 visits before clipping, 13 visits after clipping\n",
      "Automotive Equipment Rental and Leasing -> has 72 POIs, processed 16 POIs, 22 visits before clipping, 22 visits after clipping\n",
      "Automotive Parts, Accessories, and Tire Stores -> has 319 POIs, processed 10 POIs, 36 visits before clipping, 35 visits after clipping\n",
      "Automotive Repair and Maintenance -> has 682 POIs, processed 38 POIs, 58 visits before clipping, 57 visits after clipping\n",
      "Beverage Manufacturing -> has 63 POIs, processed 19 POIs, 22 visits before clipping, 22 visits after clipping\n",
      "Building Finishing Contractors -> has 42 POIs, processed 12 POIs, 7 visits before clipping, 7 visits after clipping\n",
      "Building Material and Supplies Dealers -> has 160 POIs, processed 21 POIs, 59 visits before clipping, 59 visits after clipping\n",
      "Clothing Stores -> has 217 POIs, processed 2 POIs, 0 visits before clipping, 0 visits after clipping\n",
      "Commercial and Industrial Machinery and Equipment Rental and Leasing -> has 21 POIs, processed 21 POIs, 47 visits before clipping, 46 visits after clipping\n",
      "Consumer Goods Rental -> has 55 POIs, processed 12 POIs, 32 visits before clipping, 31 visits after clipping\n",
      "Continuing Care Retirement Communities and Assisted Living Facilities for the Elderly -> has 77 POIs, processed 77 POIs, 180 visits before clipping, 173 visits after clipping\n",
      "Death Care Services -> has 29 POIs, processed 2 POIs, 2 visits before clipping, 2 visits after clipping\n",
      "Electric Power Generation, Transmission and Distribution -> has 25 POIs, processed 25 POIs, 33 visits before clipping, 33 visits after clipping\n",
      "Electronics and Appliance Stores -> has 113 POIs, processed 10 POIs, 9 visits before clipping, 9 visits after clipping\n",
      "Hardware, and Plumbing and Heating Equipment and Supplies Merchant Wholesalers -> has 54 POIs, processed 13 POIs, 47 visits before clipping, 46 visits after clipping\n",
      "Health and Personal Care Stores -> has 357 POIs, processed 12 POIs, 20 visits before clipping, 19 visits after clipping\n",
      "Individual and Family Services -> has 54 POIs, processed 25 POIs, 60 visits before clipping, 57 visits after clipping\n",
      "Jewelry, Luggage, and Leather Goods Stores -> has 59 POIs, processed 6 POIs, 12 visits before clipping, 12 visits after clipping\n",
      "Justice, Public Order, and Safety Activities -> has 170 POIs, processed 15 POIs, 26 visits before clipping, 25 visits after clipping\n",
      "Lawn and Garden Equipment and Supplies Stores -> has 58 POIs, processed 16 POIs, 81 visits before clipping, 78 visits after clipping\n",
      "Lessors of Real Estate -> has 50 POIs, processed 3 POIs, 19 visits before clipping, 18 visits after clipping\n",
      "Machinery, Equipment, and Supplies Merchant Wholesalers -> has 50 POIs, processed 50 POIs, 137 visits before clipping, 133 visits after clipping\n",
      "Management, Scientific, and Technical Consulting Services -> has 69 POIs, processed 69 POIs, 36 visits before clipping, 35 visits after clipping\n",
      "Medical and Diagnostic Laboratories -> has 56 POIs, processed 6 POIs, 10 visits before clipping, 10 visits after clipping\n",
      "Miscellaneous Durable Goods Merchant Wholesalers -> has 46 POIs, processed 10 POIs, 23 visits before clipping, 23 visits after clipping\n",
      "Motion Picture and Video Industries -> has 25 POIs, processed 2 POIs, 0 visits before clipping, 0 visits after clipping\n",
      "Museums, Historical Sites, and Similar Institutions -> has 353 POIs, processed 5 POIs, 4 visits before clipping, 4 visits after clipping\n",
      "Nondepository Credit Intermediation -> has 41 POIs, processed 14 POIs, 54 visits before clipping, 53 visits after clipping\n",
      "Offices of Other Health Practitioners -> has 459 POIs, processed 18 POIs, 15 visits before clipping, 15 visits after clipping\n",
      "Other Ambulatory Health Care Services -> has 54 POIs, processed 13 POIs, 33 visits before clipping, 33 visits after clipping\n",
      "Other Amusement and Recreation Industries -> has 481 POIs, processed 21 POIs, 57 visits before clipping, 57 visits after clipping\n",
      "Other Miscellaneous Store Retailers -> has 232 POIs, processed 16 POIs, 13 visits before clipping, 13 visits after clipping\n",
      "Other Motor Vehicle Dealers -> has 54 POIs, processed 23 POIs, 55 visits before clipping, 55 visits after clipping\n",
      "Other Personal Services -> has 102 POIs, processed 14 POIs, 37 visits before clipping, 37 visits after clipping\n",
      "Other Schools and Instruction -> has 218 POIs, processed 2 POIs, 1 visits before clipping, 1 visits after clipping\n",
      "Outpatient Care Centers -> has 52 POIs, processed 24 POIs, 72 visits before clipping, 67 visits after clipping\n",
      "Personal and Household Goods Repair and Maintenance -> has 64 POIs, processed 37 POIs, 51 visits before clipping, 50 visits after clipping\n",
      "Printing and Related Support Activities -> has 25 POIs, processed 25 POIs, 71 visits before clipping, 70 visits after clipping\n",
      "Restaurants and Other Eating Places -> has 2487 POIs, processed 1 POIs, 10 visits before clipping, 10 visits after clipping\n",
      "Specialized Freight Trucking -> has 28 POIs, processed 2 POIs, 0 visits before clipping, 0 visits after clipping\n",
      "Specialty Food Stores -> has 77 POIs, processed 19 POIs, 27 visits before clipping, 27 visits after clipping\n",
      "Waste Treatment and Disposal -> has 21 POIs, processed 1 POIs, 0 visits before clipping, 0 visits after clipping\n",
      "All Other Amusement and Recreation Industries -> has 92 POIs, processed 92 POIs, 185 visits before clipping, 182 visits after clipping\n",
      "All Other Consumer Goods Rental -> has 43 POIs, processed 43 POIs, 59 visits before clipping, 58 visits after clipping\n",
      "All Other General Merchandise Stores -> has 159 POIs, processed 159 POIs, 2266 visits before clipping, 2142 visits after clipping\n",
      "All Other Home Furnishings Stores -> has 46 POIs, processed 46 POIs, 76 visits before clipping, 75 visits after clipping\n",
      "All Other Miscellaneous Ambulatory Health Care Services -> has 41 POIs, processed 41 POIs, 65 visits before clipping, 64 visits after clipping\n",
      "All Other Miscellaneous Schools and Instruction -> has 23 POIs, processed 23 POIs, 37 visits before clipping, 37 visits after clipping\n",
      "All Other Miscellaneous Store Retailers (except Tobacco Stores) -> has 21 POIs, processed 21 POIs, 56 visits before clipping, 55 visits after clipping\n",
      "All Other Personal Services -> has 23 POIs, processed 23 POIs, 5 visits before clipping, 5 visits after clipping\n",
      "Automobile Driving Schools -> has 59 POIs, processed 59 POIs, 148 visits before clipping, 146 visits after clipping\n",
      "Automotive Body, Paint, and Interior Repair and Maintenance -> has 137 POIs, processed 137 POIs, 167 visits before clipping, 163 visits after clipping\n",
      "Automotive Glass Replacement Shops -> has 44 POIs, processed 44 POIs, 86 visits before clipping, 84 visits after clipping\n",
      "Automotive Oil Change and Lubrication Shops -> has 20 POIs, processed 20 POIs, 15 visits before clipping, 15 visits after clipping\n",
      "Automotive Parts and Accessories Stores -> has 309 POIs, processed 309 POIs, 879 visits before clipping, 851 visits after clipping\n",
      "Barber Shops -> has 55 POIs, processed 55 POIs, 29 visits before clipping, 29 visits after clipping\n",
      "Beauty Salons -> has 312 POIs, processed 312 POIs, 149 visits before clipping, 146 visits after clipping\n",
      "Beer, Wine, and Liquor Stores -> has 53 POIs, processed 53 POIs, 153 visits before clipping, 150 visits after clipping\n",
      "Book Stores -> has 35 POIs, processed 35 POIs, 97 visits before clipping, 95 visits after clipping\n",
      "Breweries -> has 44 POIs, processed 44 POIs, 70 visits before clipping, 69 visits after clipping\n",
      "Car Washes -> has 80 POIs, processed 80 POIs, 112 visits before clipping, 109 visits after clipping\n",
      "Child Day Care Services -> has 515 POIs, processed 515 POIs, 711 visits before clipping, 689 visits after clipping\n",
      "Children's and Infants' Clothing Stores -> has 22 POIs, processed 22 POIs, 13 visits before clipping, 13 visits after clipping\n",
      "Colleges, Universities, and Professional Schools -> has 44 POIs, processed 44 POIs, 134 visits before clipping, 130 visits after clipping\n",
      "Commercial Banking -> has 350 POIs, processed 350 POIs, 598 visits before clipping, 587 visits after clipping\n",
      "Consumer Electronics Repair and Maintenance -> has 21 POIs, processed 21 POIs, 27 visits before clipping, 27 visits after clipping\n"
     ]
    },
    {
     "name": "stdout",
     "output_type": "stream",
     "text": [
      "Consumer Lending -> has 27 POIs, processed 27 POIs, 24 visits before clipping, 24 visits after clipping\n",
      "Convenience Stores -> has 164 POIs, processed 164 POIs, 1720 visits before clipping, 1660 visits after clipping\n",
      "Correctional Institutions -> has 28 POIs, processed 28 POIs, 132 visits before clipping, 130 visits after clipping\n",
      "Cosmetics, Beauty Supplies, and Perfume Stores -> has 65 POIs, processed 65 POIs, 49 visits before clipping, 48 visits after clipping\n",
      "Couriers and Express Delivery Services -> has 24 POIs, processed 24 POIs, 161 visits before clipping, 157 visits after clipping\n",
      "Department Stores -> has 51 POIs, processed 51 POIs, 126 visits before clipping, 124 visits after clipping\n",
      "Diet and Weight Reducing Centers -> has 29 POIs, processed 29 POIs, 28 visits before clipping, 28 visits after clipping\n",
      "Drinking Places (Alcoholic Beverages) -> has 126 POIs, processed 126 POIs, 303 visits before clipping, 281 visits after clipping\n",
      "Electronics Stores -> has 103 POIs, processed 103 POIs, 206 visits before clipping, 203 visits after clipping\n",
      "Elementary and Secondary Schools -> has 320 POIs, processed 320 POIs, 592 visits before clipping, 582 visits after clipping\n",
      "Exam Preparation and Tutoring -> has 31 POIs, processed 31 POIs, 31 visits before clipping, 30 visits after clipping\n",
      "Family Clothing Stores -> has 46 POIs, processed 46 POIs, 87 visits before clipping, 83 visits after clipping\n",
      "Fire Protection -> has 94 POIs, processed 94 POIs, 177 visits before clipping, 174 visits after clipping\n",
      "Fish and Seafood Markets -> has 27 POIs, processed 27 POIs, 105 visits before clipping, 103 visits after clipping\n",
      "Fitness and Recreational Sports Centers -> has 330 POIs, processed 330 POIs, 1008 visits before clipping, 974 visits after clipping\n",
      "Floor Covering Stores -> has 23 POIs, processed 23 POIs, 56 visits before clipping, 54 visits after clipping\n",
      "Florists -> has 62 POIs, processed 62 POIs, 220 visits before clipping, 208 visits after clipping\n",
      "Food (Health) Supplement Stores -> has 34 POIs, processed 34 POIs, 60 visits before clipping, 59 visits after clipping\n",
      "Fruit and Vegetable Markets -> has 31 POIs, processed 31 POIs, 53 visits before clipping, 52 visits after clipping\n",
      "Full-Service Restaurants -> has 1340 POIs, processed 1340 POIs, 3254 visits before clipping, 3132 visits after clipping\n",
      "Funeral Homes and Funeral Services -> has 27 POIs, processed 27 POIs, 20 visits before clipping, 20 visits after clipping\n",
      "Furniture Stores -> has 117 POIs, processed 117 POIs, 209 visits before clipping, 200 visits after clipping\n",
      "Gasoline Stations with Convenience Stores -> has 416 POIs, processed 416 POIs, 2503 visits before clipping, 2305 visits after clipping\n",
      "General Automotive Repair -> has 363 POIs, processed 363 POIs, 434 visits before clipping, 429 visits after clipping\n",
      "General Medical and Surgical Hospitals -> has 21 POIs, processed 21 POIs, 93 visits before clipping, 89 visits after clipping\n",
      "General Warehousing and Storage -> has 23 POIs, processed 23 POIs, 9 visits before clipping, 9 visits after clipping\n",
      "Gift, Novelty, and Souvenir Stores -> has 55 POIs, processed 55 POIs, 90 visits before clipping, 88 visits after clipping\n",
      "Golf Courses and Country Clubs -> has 38 POIs, processed 38 POIs, 619 visits before clipping, 604 visits after clipping\n",
      "Hardware Stores -> has 90 POIs, processed 90 POIs, 1830 visits before clipping, 1773 visits after clipping\n",
      "Hazardous Waste Treatment and Disposal -> has 20 POIs, processed 20 POIs, 37 visits before clipping, 37 visits after clipping\n",
      "Historical Sites -> has 73 POIs, processed 73 POIs, 142 visits before clipping, 140 visits after clipping\n",
      "Hobby, Toy, and Game Stores -> has 54 POIs, processed 54 POIs, 163 visits before clipping, 157 visits after clipping\n",
      "Home Health Care Services -> has 81 POIs, processed 81 POIs, 109 visits before clipping, 107 visits after clipping\n",
      "Hotels (except Casino Hotels) and Motels -> has 188 POIs, processed 188 POIs, 765 visits before clipping, 749 visits after clipping\n",
      "Insurance Agencies and Brokerages -> has 346 POIs, processed 346 POIs, 213 visits before clipping, 209 visits after clipping\n",
      "Investment Advice -> has 101 POIs, processed 101 POIs, 73 visits before clipping, 71 visits after clipping\n",
      "Jewelry Stores -> has 53 POIs, processed 53 POIs, 94 visits before clipping, 92 visits after clipping\n",
      "Kidney Dialysis Centers -> has 28 POIs, processed 28 POIs, 29 visits before clipping, 29 visits after clipping\n",
      "Lessors of Miniwarehouses and Self-Storage Units -> has 47 POIs, processed 47 POIs, 36 visits before clipping, 35 visits after clipping\n",
      "Libraries and Archives -> has 56 POIs, processed 56 POIs, 106 visits before clipping, 103 visits after clipping\n",
      "Limited-Service Restaurants -> has 827 POIs, processed 827 POIs, 5205 visits before clipping, 4818 visits after clipping\n",
      "Medical Laboratories -> has 50 POIs, processed 50 POIs, 49 visits before clipping, 48 visits after clipping\n",
      "Men's Clothing Stores -> has 23 POIs, processed 23 POIs, 34 visits before clipping, 33 visits after clipping\n",
      "Miscellaneous Financial Investment Activities -> has 26 POIs, processed 26 POIs, 11 visits before clipping, 11 visits after clipping\n",
      "Motion Picture Theaters (except Drive-Ins) -> has 23 POIs, processed 23 POIs, 32 visits before clipping, 31 visits after clipping\n",
      "Motor Vehicle Towing -> has 87 POIs, processed 87 POIs, 92 visits before clipping, 90 visits after clipping\n",
      "Motorcycle, ATV, and All Other Motor Vehicle Dealers -> has 31 POIs, processed 31 POIs, 118 visits before clipping, 115 visits after clipping\n",
      "Museums -> has 38 POIs, processed 38 POIs, 101 visits before clipping, 98 visits after clipping\n",
      "Musical Instrument and Supplies Stores -> has 45 POIs, processed 45 POIs, 93 visits before clipping, 90 visits after clipping\n",
      "Nail Salons -> has 92 POIs, processed 92 POIs, 13 visits before clipping, 12 visits after clipping\n",
      "Nature Parks and Other Similar Institutions -> has 237 POIs, processed 237 POIs, 725 visits before clipping, 700 visits after clipping\n",
      "New Car Dealers -> has 76 POIs, processed 76 POIs, 580 visits before clipping, 560 visits after clipping\n",
      "Nursery, Garden Center, and Farm Supply Stores -> has 42 POIs, processed 42 POIs, 67 visits before clipping, 66 visits after clipping\n",
      "Nursing Care Facilities (Skilled Nursing Facilities) -> has 65 POIs, processed 65 POIs, 267 visits before clipping, 256 visits after clipping\n",
      "Office Supplies and Stationery Stores -> has 55 POIs, processed 55 POIs, 294 visits before clipping, 289 visits after clipping\n",
      "Offices of All Other Miscellaneous Health Practitioners -> has 77 POIs, processed 77 POIs, 98 visits before clipping, 95 visits after clipping\n",
      "Offices of Chiropractors -> has 88 POIs, processed 88 POIs, 102 visits before clipping, 99 visits after clipping\n",
      "Offices of Dentists -> has 508 POIs, processed 508 POIs, 417 visits before clipping, 406 visits after clipping\n",
      "Offices of Mental Health Practitioners (except Physicians) -> has 204 POIs, processed 204 POIs, 186 visits before clipping, 178 visits after clipping\n",
      "Offices of Physical, Occupational and Speech Therapists, and Audiologists -> has 72 POIs, processed 72 POIs, 148 visits before clipping, 136 visits after clipping\n",
      "Offices of Physicians (except Mental Health Specialists) -> has 802 POIs, processed 802 POIs, 1781 visits before clipping, 1561 visits after clipping\n",
      "Offices of Real Estate Agents and Brokers -> has 125 POIs, processed 125 POIs, 80 visits before clipping, 80 visits after clipping\n",
      "Optical Goods Stores -> has 109 POIs, processed 109 POIs, 258 visits before clipping, 249 visits after clipping\n",
      "Other Building Finishing Contractors -> has 30 POIs, processed 30 POIs, 44 visits before clipping, 43 visits after clipping\n",
      "Other Clothing Stores -> has 20 POIs, processed 20 POIs, 53 visits before clipping, 53 visits after clipping\n",
      "Other Personal Care Services -> has 177 POIs, processed 177 POIs, 130 visits before clipping, 127 visits after clipping\n",
      "Other Personal and Household Goods Repair and Maintenance -> has 27 POIs, processed 27 POIs, 37 visits before clipping, 36 visits after clipping\n",
      "Paint and Wallpaper Stores -> has 49 POIs, processed 49 POIs, 103 visits before clipping, 100 visits after clipping\n",
      "Passenger Car Rental -> has 56 POIs, processed 56 POIs, 35 visits before clipping, 34 visits after clipping\n",
      "Pet Care (except Veterinary) Services -> has 65 POIs, processed 65 POIs, 145 visits before clipping, 136 visits after clipping\n",
      "Pet and Pet Supplies Stores -> has 125 POIs, processed 125 POIs, 444 visits before clipping, 430 visits after clipping\n",
      "Pharmacies and Drug Stores -> has 137 POIs, processed 137 POIs, 594 visits before clipping, 577 visits after clipping\n",
      "Photography Studios, Portrait -> has 27 POIs, processed 27 POIs, 21 visits before clipping, 21 visits after clipping\n",
      "Plumbing, Heating, and Air-Conditioning Contractors -> has 40 POIs, processed 40 POIs, 48 visits before clipping, 48 visits after clipping\n",
      "Police Protection -> has 33 POIs, processed 33 POIs, 42 visits before clipping, 41 visits after clipping\n",
      "Postal Service -> has 80 POIs, processed 80 POIs, 305 visits before clipping, 297 visits after clipping\n",
      "Regulation and Administration of Transportation Programs -> has 24 POIs, processed 24 POIs, 32 visits before clipping, 32 visits after clipping\n",
      "Religious Organizations -> has 919 POIs, processed 919 POIs, 671 visits before clipping, 656 visits after clipping\n",
      "Retail Bakeries -> has 71 POIs, processed 71 POIs, 79 visits before clipping, 78 visits after clipping\n",
      "Services for the Elderly and Persons with Disabilities -> has 29 POIs, processed 29 POIs, 52 visits before clipping, 51 visits after clipping\n",
      "Sewing, Needlework, and Piece Goods Stores -> has 31 POIs, processed 31 POIs, 103 visits before clipping, 99 visits after clipping\n",
      "Shoe Stores -> has 49 POIs, processed 49 POIs, 74 visits before clipping, 71 visits after clipping\n"
     ]
    },
    {
     "name": "stdout",
     "output_type": "stream",
     "text": [
      "Snack and Nonalcoholic Beverage Bars -> has 319 POIs, processed 319 POIs, 1558 visits before clipping, 1370 visits after clipping\n",
      "Specialty (except Psychiatric and Substance Abuse) Hospitals -> has 49 POIs, processed 49 POIs, 130 visits before clipping, 127 visits after clipping\n",
      "Sporting Goods Stores -> has 99 POIs, processed 99 POIs, 352 visits before clipping, 337 visits after clipping\n",
      "Sporting and Recreational Goods and Supplies Merchant Wholesalers -> has 36 POIs, processed 36 POIs, 49 visits before clipping, 49 visits after clipping\n",
      "Sports and Recreation Instruction -> has 103 POIs, processed 103 POIs, 306 visits before clipping, 292 visits after clipping\n",
      "Supermarkets and Other Grocery (except Convenience) Stores -> has 288 POIs, processed 288 POIs, 1845 visits before clipping, 1727 visits after clipping\n",
      "Tax Preparation Services -> has 80 POIs, processed 80 POIs, 94 visits before clipping, 92 visits after clipping\n",
      "Tobacco Stores -> has 70 POIs, processed 70 POIs, 252 visits before clipping, 238 visits after clipping\n",
      "Used Car Dealers -> has 101 POIs, processed 101 POIs, 190 visits before clipping, 186 visits after clipping\n",
      "Used Household and Office Goods Moving -> has 26 POIs, processed 26 POIs, 59 visits before clipping, 57 visits after clipping\n",
      "Used Merchandise Stores -> has 170 POIs, processed 170 POIs, 526 visits before clipping, 503 visits after clipping\n",
      "Veterinary Services -> has 134 POIs, processed 134 POIs, 168 visits before clipping, 164 visits after clipping\n",
      "Warm Air Heating and Air-Conditioning Equipment and Supplies Merchant Wholesalers -> has 41 POIs, processed 41 POIs, 67 visits before clipping, 66 visits after clipping\n",
      "Wireless Telecommunications Carriers (except Satellite) -> has 97 POIs, processed 97 POIs, 38 visits before clipping, 38 visits after clipping\n",
      "Women's Clothing Stores -> has 104 POIs, processed 104 POIs, 96 visits before clipping, 95 visits after clipping\n",
      "After clipping, 15870 POIs\n",
      "Received 9917 pre-specified POI ids -> missing 0 in dataframe\n",
      "21312 / 238008 hours are null -> filling with 0\n",
      "220333 rows of 2018 1-year ACS data read\n",
      "217739 rows of 2017 5-year ACS data read\n",
      "Received 1098 pre-specified CBG ids\n",
      "FINAL: number of CBGs (N) = 1098, number of POIs (M) = 9917\n",
      "Num connected POI-CBG pairs (E) = 876673, network density (E/N) = 798.427\n",
      "Dwell time correction factors: mean = 0.16, min = 0.01, max = 0.80\n",
      "Correcting POI hourly visit vectors...\n",
      "After correcting, 57683.66 hourly visits\n",
      "Removing 0.617% of people from SafeGraph count who are not in 50 states or DC\n",
      "Total US population from ACS: 322903030; total safegraph visitor count: 46554310; correction factor for POI visits is 6.936\n",
      "2. Processing ACS data...\n",
      "CBGs: median population size = 1590, sum of population sizes = 2048200\n",
      "Attribute p_black: was able to compute for 100.0% out of 1098 CBGs, median is 0.204\n",
      "Attribute p_white: was able to compute for 100.0% out of 1098 CBGs, median is 0.667\n",
      "Attribute median_household_income: was able to compute for 97.6% out of 1098 CBGs, median is 60887.000\n",
      "Loading social distancing metrics for 1 datetimes; using version v2\n",
      "Total time to load social distancing metrics: 4.950 seconds; total rows 219253\n",
      "Giving model daily proportion out for 2020.4.6 to 2020.4.6\n",
      "Total time to prep data: 11.014s\n",
      "1.5% of POIs have at least 50% of visitors coming from non-modeled CBGs\n",
      "Adjusted POI transmission rates with dwell time correction factors\n",
      "Received daily proportions out per CBG\n",
      "Date: 2020-04-06-04, marginals prop positive -> POIs = 0.033, CBGs = 1.000\n"
     ]
    }
   ],
   "source": [
    "# try another hour where it didn't converge\n",
    "dt = datetime.datetime(2020, 4, 6, 4)\n",
    "Z, u, v = prep_safegraph_data_for_ipf(msa_name, dt, msa_df_date_range)\n",
    "print('Date: %s, marginals prop positive -> POIs = %.3f, CBGs = %.3f' % (\n",
    "    dt.strftime('%Y-%m-%d-%H'), np.mean(u > 0), np.mean(v > 0)))"
   ]
  },
  {
   "cell_type": "code",
   "execution_count": 6,
   "metadata": {},
   "outputs": [
    {
     "name": "stdout",
     "output_type": "stream",
     "text": [
      "Found 1098 sets of size 1\n",
      "Finished checks for this set size [time = 0.035s]\n",
      "Found 1 violations\n",
      "CBGs: [720] -> CBG total = 3.0100, POI total = 0.0000\n"
     ]
    }
   ],
   "source": [
    "sets, set_cbg_marginals, set_poi_marginals = test_ipf_convergence_from_cbg_subsets(Z, u, v)"
   ]
  },
  {
   "cell_type": "code",
   "execution_count": 25,
   "metadata": {},
   "outputs": [
    {
     "name": "stdout",
     "output_type": "stream",
     "text": [
      "Loaded 9917 POI and 1098 CBG ids\n",
      "Loaded 16269 rows for Richmond_VA in 3.911 seconds\n",
      "Loaded 15546 rows for Richmond_VA in 9.166 seconds\n",
      "1. Processing SafeGraph data...\n",
      "Found 24 hours in all (2020.3.2.0 to 2020.3.2.23)\n",
      "Clipping areas: True (below=5, above=95), clipping dwell times: True (above=90), clipping visits: True (above=95)\n",
      "Found 121 sub-categories with >= 20 POIs and 43 top categories with >= 20 POIs -> covers 15870 POIs\n",
      "Could not cover 399/16269 POIs (2.5% POIs) -> dropping these POIs\n",
      "Accounting, Tax Preparation, Bookkeeping, and Payroll Services -> has 87 POIs, processed 7 POIs, 7 visits before clipping, 7 visits after clipping\n",
      "Activities Related to Credit Intermediation -> has 28 POIs, processed 28 POIs, 36 visits before clipping, 36 visits after clipping\n",
      "Automotive Equipment Rental and Leasing -> has 72 POIs, processed 16 POIs, 20 visits before clipping, 20 visits after clipping\n",
      "Automotive Parts, Accessories, and Tire Stores -> has 319 POIs, processed 10 POIs, 42 visits before clipping, 42 visits after clipping\n",
      "Automotive Repair and Maintenance -> has 682 POIs, processed 38 POIs, 76 visits before clipping, 76 visits after clipping\n",
      "Beverage Manufacturing -> has 63 POIs, processed 19 POIs, 57 visits before clipping, 57 visits after clipping\n",
      "Building Finishing Contractors -> has 42 POIs, processed 12 POIs, 3 visits before clipping, 3 visits after clipping\n",
      "Building Material and Supplies Dealers -> has 160 POIs, processed 21 POIs, 89 visits before clipping, 88 visits after clipping\n",
      "Clothing Stores -> has 217 POIs, processed 2 POIs, 5 visits before clipping, 5 visits after clipping\n",
      "Commercial and Industrial Machinery and Equipment Rental and Leasing -> has 21 POIs, processed 21 POIs, 58 visits before clipping, 57 visits after clipping\n",
      "Consumer Goods Rental -> has 55 POIs, processed 12 POIs, 107 visits before clipping, 91 visits after clipping\n",
      "Continuing Care Retirement Communities and Assisted Living Facilities for the Elderly -> has 77 POIs, processed 77 POIs, 343 visits before clipping, 334 visits after clipping\n",
      "Death Care Services -> has 29 POIs, processed 2 POIs, 0 visits before clipping, 0 visits after clipping\n",
      "Electric Power Generation, Transmission and Distribution -> has 25 POIs, processed 25 POIs, 35 visits before clipping, 35 visits after clipping\n",
      "Electronics and Appliance Stores -> has 113 POIs, processed 10 POIs, 14 visits before clipping, 14 visits after clipping\n",
      "Hardware, and Plumbing and Heating Equipment and Supplies Merchant Wholesalers -> has 54 POIs, processed 13 POIs, 68 visits before clipping, 68 visits after clipping\n",
      "Health and Personal Care Stores -> has 357 POIs, processed 12 POIs, 66 visits before clipping, 66 visits after clipping\n",
      "Individual and Family Services -> has 54 POIs, processed 25 POIs, 804 visits before clipping, 752 visits after clipping\n",
      "Jewelry, Luggage, and Leather Goods Stores -> has 59 POIs, processed 6 POIs, 7 visits before clipping, 7 visits after clipping\n",
      "Justice, Public Order, and Safety Activities -> has 170 POIs, processed 15 POIs, 73 visits before clipping, 73 visits after clipping\n",
      "Lawn and Garden Equipment and Supplies Stores -> has 58 POIs, processed 16 POIs, 162 visits before clipping, 144 visits after clipping\n",
      "Lessors of Real Estate -> has 50 POIs, processed 3 POIs, 19 visits before clipping, 18 visits after clipping\n",
      "Machinery, Equipment, and Supplies Merchant Wholesalers -> has 50 POIs, processed 50 POIs, 169 visits before clipping, 166 visits after clipping\n",
      "Management, Scientific, and Technical Consulting Services -> has 69 POIs, processed 69 POIs, 97 visits before clipping, 96 visits after clipping\n",
      "Medical and Diagnostic Laboratories -> has 56 POIs, processed 6 POIs, 35 visits before clipping, 34 visits after clipping\n",
      "Miscellaneous Durable Goods Merchant Wholesalers -> has 46 POIs, processed 10 POIs, 33 visits before clipping, 32 visits after clipping\n",
      "Motion Picture and Video Industries -> has 25 POIs, processed 2 POIs, 3 visits before clipping, 3 visits after clipping\n",
      "Museums, Historical Sites, and Similar Institutions -> has 353 POIs, processed 5 POIs, 10 visits before clipping, 10 visits after clipping\n",
      "Nondepository Credit Intermediation -> has 41 POIs, processed 14 POIs, 115 visits before clipping, 112 visits after clipping\n",
      "Offices of Other Health Practitioners -> has 459 POIs, processed 18 POIs, 102 visits before clipping, 93 visits after clipping\n",
      "Other Ambulatory Health Care Services -> has 54 POIs, processed 13 POIs, 46 visits before clipping, 44 visits after clipping\n",
      "Other Amusement and Recreation Industries -> has 481 POIs, processed 21 POIs, 182 visits before clipping, 182 visits after clipping\n",
      "Other Miscellaneous Store Retailers -> has 232 POIs, processed 16 POIs, 55 visits before clipping, 54 visits after clipping\n",
      "Other Motor Vehicle Dealers -> has 54 POIs, processed 23 POIs, 70 visits before clipping, 68 visits after clipping\n",
      "Other Personal Services -> has 102 POIs, processed 14 POIs, 129 visits before clipping, 123 visits after clipping\n",
      "Other Schools and Instruction -> has 218 POIs, processed 2 POIs, 4 visits before clipping, 4 visits after clipping\n",
      "Outpatient Care Centers -> has 52 POIs, processed 24 POIs, 130 visits before clipping, 122 visits after clipping\n",
      "Personal and Household Goods Repair and Maintenance -> has 64 POIs, processed 37 POIs, 81 visits before clipping, 78 visits after clipping\n",
      "Printing and Related Support Activities -> has 25 POIs, processed 25 POIs, 127 visits before clipping, 123 visits after clipping\n",
      "Restaurants and Other Eating Places -> has 2487 POIs, processed 1 POIs, 18 visits before clipping, 18 visits after clipping\n",
      "Specialized Freight Trucking -> has 28 POIs, processed 2 POIs, 0 visits before clipping, 0 visits after clipping\n",
      "Specialty Food Stores -> has 77 POIs, processed 19 POIs, 83 visits before clipping, 82 visits after clipping\n",
      "Waste Treatment and Disposal -> has 21 POIs, processed 1 POIs, 0 visits before clipping, 0 visits after clipping\n",
      "All Other Amusement and Recreation Industries -> has 92 POIs, processed 92 POIs, 434 visits before clipping, 401 visits after clipping\n",
      "All Other Consumer Goods Rental -> has 43 POIs, processed 43 POIs, 176 visits before clipping, 167 visits after clipping\n",
      "All Other General Merchandise Stores -> has 159 POIs, processed 159 POIs, 3024 visits before clipping, 2781 visits after clipping\n",
      "All Other Home Furnishings Stores -> has 46 POIs, processed 46 POIs, 177 visits before clipping, 170 visits after clipping\n",
      "All Other Miscellaneous Ambulatory Health Care Services -> has 41 POIs, processed 41 POIs, 115 visits before clipping, 112 visits after clipping\n",
      "All Other Miscellaneous Schools and Instruction -> has 23 POIs, processed 23 POIs, 42 visits before clipping, 42 visits after clipping\n",
      "All Other Miscellaneous Store Retailers (except Tobacco Stores) -> has 21 POIs, processed 21 POIs, 112 visits before clipping, 108 visits after clipping\n",
      "All Other Personal Services -> has 23 POIs, processed 23 POIs, 11 visits before clipping, 11 visits after clipping\n",
      "Automobile Driving Schools -> has 59 POIs, processed 59 POIs, 463 visits before clipping, 415 visits after clipping\n",
      "Automotive Body, Paint, and Interior Repair and Maintenance -> has 137 POIs, processed 137 POIs, 185 visits before clipping, 180 visits after clipping\n",
      "Automotive Glass Replacement Shops -> has 44 POIs, processed 44 POIs, 129 visits before clipping, 127 visits after clipping\n",
      "Automotive Oil Change and Lubrication Shops -> has 20 POIs, processed 20 POIs, 26 visits before clipping, 25 visits after clipping\n",
      "Automotive Parts and Accessories Stores -> has 309 POIs, processed 309 POIs, 1202 visits before clipping, 1165 visits after clipping\n",
      "Barber Shops -> has 55 POIs, processed 55 POIs, 63 visits before clipping, 60 visits after clipping\n",
      "Beauty Salons -> has 312 POIs, processed 312 POIs, 302 visits before clipping, 275 visits after clipping\n",
      "Beer, Wine, and Liquor Stores -> has 53 POIs, processed 53 POIs, 250 visits before clipping, 243 visits after clipping\n",
      "Book Stores -> has 35 POIs, processed 35 POIs, 169 visits before clipping, 165 visits after clipping\n",
      "Breweries -> has 44 POIs, processed 44 POIs, 235 visits before clipping, 221 visits after clipping\n",
      "Car Washes -> has 80 POIs, processed 80 POIs, 216 visits before clipping, 206 visits after clipping\n",
      "Child Day Care Services -> has 515 POIs, processed 515 POIs, 2648 visits before clipping, 2434 visits after clipping\n"
     ]
    },
    {
     "name": "stdout",
     "output_type": "stream",
     "text": [
      "Children's and Infants' Clothing Stores -> has 22 POIs, processed 22 POIs, 47 visits before clipping, 46 visits after clipping\n",
      "Colleges, Universities, and Professional Schools -> has 44 POIs, processed 44 POIs, 862 visits before clipping, 795 visits after clipping\n",
      "Commercial Banking -> has 350 POIs, processed 350 POIs, 1200 visits before clipping, 1074 visits after clipping\n",
      "Consumer Electronics Repair and Maintenance -> has 21 POIs, processed 21 POIs, 55 visits before clipping, 53 visits after clipping\n",
      "Consumer Lending -> has 27 POIs, processed 27 POIs, 44 visits before clipping, 44 visits after clipping\n",
      "Convenience Stores -> has 164 POIs, processed 164 POIs, 3126 visits before clipping, 2772 visits after clipping\n",
      "Correctional Institutions -> has 28 POIs, processed 28 POIs, 211 visits before clipping, 203 visits after clipping\n",
      "Cosmetics, Beauty Supplies, and Perfume Stores -> has 65 POIs, processed 65 POIs, 84 visits before clipping, 82 visits after clipping\n",
      "Couriers and Express Delivery Services -> has 24 POIs, processed 24 POIs, 160 visits before clipping, 154 visits after clipping\n",
      "Department Stores -> has 51 POIs, processed 51 POIs, 676 visits before clipping, 664 visits after clipping\n",
      "Diet and Weight Reducing Centers -> has 29 POIs, processed 29 POIs, 55 visits before clipping, 53 visits after clipping\n",
      "Drinking Places (Alcoholic Beverages) -> has 126 POIs, processed 126 POIs, 1423 visits before clipping, 822 visits after clipping\n",
      "Electronics Stores -> has 103 POIs, processed 103 POIs, 560 visits before clipping, 538 visits after clipping\n",
      "Elementary and Secondary Schools -> has 320 POIs, processed 320 POIs, 15775 visits before clipping, 14004 visits after clipping\n",
      "Exam Preparation and Tutoring -> has 31 POIs, processed 31 POIs, 89 visits before clipping, 87 visits after clipping\n",
      "Family Clothing Stores -> has 46 POIs, processed 46 POIs, 260 visits before clipping, 242 visits after clipping\n",
      "Fire Protection -> has 94 POIs, processed 94 POIs, 344 visits before clipping, 280 visits after clipping\n",
      "Fish and Seafood Markets -> has 27 POIs, processed 27 POIs, 174 visits before clipping, 165 visits after clipping\n",
      "Fitness and Recreational Sports Centers -> has 330 POIs, processed 330 POIs, 4250 visits before clipping, 3869 visits after clipping\n",
      "Floor Covering Stores -> has 23 POIs, processed 23 POIs, 92 visits before clipping, 91 visits after clipping\n",
      "Florists -> has 62 POIs, processed 62 POIs, 451 visits before clipping, 410 visits after clipping\n",
      "Food (Health) Supplement Stores -> has 34 POIs, processed 34 POIs, 128 visits before clipping, 125 visits after clipping\n",
      "Fruit and Vegetable Markets -> has 31 POIs, processed 31 POIs, 79 visits before clipping, 77 visits after clipping\n",
      "Full-Service Restaurants -> has 1340 POIs, processed 1340 POIs, 10061 visits before clipping, 9177 visits after clipping\n",
      "Funeral Homes and Funeral Services -> has 27 POIs, processed 27 POIs, 13 visits before clipping, 13 visits after clipping\n",
      "Furniture Stores -> has 117 POIs, processed 117 POIs, 465 visits before clipping, 434 visits after clipping\n",
      "Gasoline Stations with Convenience Stores -> has 416 POIs, processed 416 POIs, 3534 visits before clipping, 3206 visits after clipping\n",
      "General Automotive Repair -> has 363 POIs, processed 363 POIs, 708 visits before clipping, 668 visits after clipping\n",
      "General Medical and Surgical Hospitals -> has 21 POIs, processed 21 POIs, 200 visits before clipping, 189 visits after clipping\n",
      "General Warehousing and Storage -> has 23 POIs, processed 23 POIs, 12 visits before clipping, 12 visits after clipping\n",
      "Gift, Novelty, and Souvenir Stores -> has 55 POIs, processed 55 POIs, 339 visits before clipping, 325 visits after clipping\n",
      "Golf Courses and Country Clubs -> has 38 POIs, processed 38 POIs, 740 visits before clipping, 710 visits after clipping\n",
      "Hardware Stores -> has 90 POIs, processed 90 POIs, 1485 visits before clipping, 1437 visits after clipping\n",
      "Hazardous Waste Treatment and Disposal -> has 20 POIs, processed 20 POIs, 61 visits before clipping, 60 visits after clipping\n",
      "Historical Sites -> has 73 POIs, processed 73 POIs, 498 visits before clipping, 470 visits after clipping\n",
      "Hobby, Toy, and Game Stores -> has 54 POIs, processed 54 POIs, 626 visits before clipping, 608 visits after clipping\n",
      "Home Health Care Services -> has 81 POIs, processed 81 POIs, 372 visits before clipping, 320 visits after clipping\n",
      "Hotels (except Casino Hotels) and Motels -> has 188 POIs, processed 188 POIs, 1870 visits before clipping, 1770 visits after clipping\n",
      "Insurance Agencies and Brokerages -> has 346 POIs, processed 346 POIs, 670 visits before clipping, 619 visits after clipping\n",
      "Investment Advice -> has 101 POIs, processed 101 POIs, 165 visits before clipping, 162 visits after clipping\n",
      "Jewelry Stores -> has 53 POIs, processed 53 POIs, 177 visits before clipping, 167 visits after clipping\n",
      "Kidney Dialysis Centers -> has 28 POIs, processed 28 POIs, 32 visits before clipping, 32 visits after clipping\n",
      "Lessors of Miniwarehouses and Self-Storage Units -> has 47 POIs, processed 47 POIs, 57 visits before clipping, 57 visits after clipping\n",
      "Libraries and Archives -> has 56 POIs, processed 56 POIs, 396 visits before clipping, 377 visits after clipping\n",
      "Limited-Service Restaurants -> has 827 POIs, processed 827 POIs, 10851 visits before clipping, 9583 visits after clipping\n",
      "Medical Laboratories -> has 50 POIs, processed 50 POIs, 119 visits before clipping, 113 visits after clipping\n",
      "Men's Clothing Stores -> has 23 POIs, processed 23 POIs, 54 visits before clipping, 53 visits after clipping\n",
      "Miscellaneous Financial Investment Activities -> has 26 POIs, processed 26 POIs, 36 visits before clipping, 35 visits after clipping\n",
      "Motion Picture Theaters (except Drive-Ins) -> has 23 POIs, processed 23 POIs, 117 visits before clipping, 115 visits after clipping\n",
      "Motor Vehicle Towing -> has 87 POIs, processed 87 POIs, 108 visits before clipping, 105 visits after clipping\n",
      "Motorcycle, ATV, and All Other Motor Vehicle Dealers -> has 31 POIs, processed 31 POIs, 110 visits before clipping, 106 visits after clipping\n",
      "Museums -> has 38 POIs, processed 38 POIs, 352 visits before clipping, 321 visits after clipping\n",
      "Musical Instrument and Supplies Stores -> has 45 POIs, processed 45 POIs, 282 visits before clipping, 268 visits after clipping\n",
      "Nail Salons -> has 92 POIs, processed 92 POIs, 80 visits before clipping, 77 visits after clipping\n",
      "Nature Parks and Other Similar Institutions -> has 237 POIs, processed 237 POIs, 1522 visits before clipping, 1328 visits after clipping\n",
      "New Car Dealers -> has 76 POIs, processed 76 POIs, 946 visits before clipping, 921 visits after clipping\n",
      "Nursery, Garden Center, and Farm Supply Stores -> has 42 POIs, processed 42 POIs, 70 visits before clipping, 69 visits after clipping\n",
      "Nursing Care Facilities (Skilled Nursing Facilities) -> has 65 POIs, processed 65 POIs, 469 visits before clipping, 457 visits after clipping\n",
      "Office Supplies and Stationery Stores -> has 55 POIs, processed 55 POIs, 606 visits before clipping, 573 visits after clipping\n",
      "Offices of All Other Miscellaneous Health Practitioners -> has 77 POIs, processed 77 POIs, 175 visits before clipping, 168 visits after clipping\n",
      "Offices of Chiropractors -> has 88 POIs, processed 88 POIs, 202 visits before clipping, 197 visits after clipping\n",
      "Offices of Dentists -> has 508 POIs, processed 508 POIs, 1469 visits before clipping, 1397 visits after clipping\n",
      "Offices of Mental Health Practitioners (except Physicians) -> has 204 POIs, processed 204 POIs, 551 visits before clipping, 525 visits after clipping\n",
      "Offices of Physical, Occupational and Speech Therapists, and Audiologists -> has 72 POIs, processed 72 POIs, 341 visits before clipping, 286 visits after clipping\n",
      "Offices of Physicians (except Mental Health Specialists) -> has 802 POIs, processed 802 POIs, 4120 visits before clipping, 3434 visits after clipping\n",
      "Offices of Real Estate Agents and Brokers -> has 125 POIs, processed 125 POIs, 163 visits before clipping, 157 visits after clipping\n",
      "Optical Goods Stores -> has 109 POIs, processed 109 POIs, 808 visits before clipping, 745 visits after clipping\n",
      "Other Building Finishing Contractors -> has 30 POIs, processed 30 POIs, 74 visits before clipping, 71 visits after clipping\n",
      "Other Clothing Stores -> has 20 POIs, processed 20 POIs, 147 visits before clipping, 140 visits after clipping\n",
      "Other Personal Care Services -> has 177 POIs, processed 177 POIs, 345 visits before clipping, 333 visits after clipping\n",
      "Other Personal and Household Goods Repair and Maintenance -> has 27 POIs, processed 27 POIs, 60 visits before clipping, 59 visits after clipping\n",
      "Paint and Wallpaper Stores -> has 49 POIs, processed 49 POIs, 204 visits before clipping, 190 visits after clipping\n",
      "Passenger Car Rental -> has 56 POIs, processed 56 POIs, 118 visits before clipping, 116 visits after clipping\n",
      "Pet Care (except Veterinary) Services -> has 65 POIs, processed 65 POIs, 191 visits before clipping, 174 visits after clipping\n",
      "Pet and Pet Supplies Stores -> has 125 POIs, processed 125 POIs, 788 visits before clipping, 770 visits after clipping\n"
     ]
    },
    {
     "name": "stdout",
     "output_type": "stream",
     "text": [
      "Pharmacies and Drug Stores -> has 137 POIs, processed 137 POIs, 876 visits before clipping, 825 visits after clipping\n",
      "Photography Studios, Portrait -> has 27 POIs, processed 27 POIs, 20 visits before clipping, 20 visits after clipping\n",
      "Plumbing, Heating, and Air-Conditioning Contractors -> has 40 POIs, processed 40 POIs, 71 visits before clipping, 70 visits after clipping\n",
      "Police Protection -> has 33 POIs, processed 33 POIs, 140 visits before clipping, 136 visits after clipping\n",
      "Postal Service -> has 80 POIs, processed 80 POIs, 451 visits before clipping, 442 visits after clipping\n",
      "Regulation and Administration of Transportation Programs -> has 24 POIs, processed 24 POIs, 327 visits before clipping, 318 visits after clipping\n",
      "Religious Organizations -> has 919 POIs, processed 919 POIs, 1511 visits before clipping, 1374 visits after clipping\n",
      "Retail Bakeries -> has 71 POIs, processed 71 POIs, 213 visits before clipping, 206 visits after clipping\n",
      "Services for the Elderly and Persons with Disabilities -> has 29 POIs, processed 29 POIs, 217 visits before clipping, 202 visits after clipping\n",
      "Sewing, Needlework, and Piece Goods Stores -> has 31 POIs, processed 31 POIs, 251 visits before clipping, 231 visits after clipping\n",
      "Shoe Stores -> has 49 POIs, processed 49 POIs, 153 visits before clipping, 144 visits after clipping\n",
      "Snack and Nonalcoholic Beverage Bars -> has 319 POIs, processed 319 POIs, 4184 visits before clipping, 3083 visits after clipping\n",
      "Specialty (except Psychiatric and Substance Abuse) Hospitals -> has 49 POIs, processed 49 POIs, 256 visits before clipping, 245 visits after clipping\n",
      "Sporting Goods Stores -> has 99 POIs, processed 99 POIs, 789 visits before clipping, 705 visits after clipping\n",
      "Sporting and Recreational Goods and Supplies Merchant Wholesalers -> has 36 POIs, processed 36 POIs, 123 visits before clipping, 117 visits after clipping\n",
      "Sports and Recreation Instruction -> has 103 POIs, processed 103 POIs, 843 visits before clipping, 795 visits after clipping\n",
      "Supermarkets and Other Grocery (except Convenience) Stores -> has 288 POIs, processed 288 POIs, 2469 visits before clipping, 2280 visits after clipping\n",
      "Tax Preparation Services -> has 80 POIs, processed 80 POIs, 188 visits before clipping, 184 visits after clipping\n",
      "Tobacco Stores -> has 70 POIs, processed 70 POIs, 486 visits before clipping, 447 visits after clipping\n",
      "Used Car Dealers -> has 101 POIs, processed 101 POIs, 437 visits before clipping, 398 visits after clipping\n",
      "Used Household and Office Goods Moving -> has 26 POIs, processed 26 POIs, 125 visits before clipping, 116 visits after clipping\n",
      "Used Merchandise Stores -> has 170 POIs, processed 170 POIs, 1253 visits before clipping, 1179 visits after clipping\n",
      "Veterinary Services -> has 134 POIs, processed 134 POIs, 220 visits before clipping, 215 visits after clipping\n",
      "Warm Air Heating and Air-Conditioning Equipment and Supplies Merchant Wholesalers -> has 41 POIs, processed 41 POIs, 156 visits before clipping, 147 visits after clipping\n",
      "Wireless Telecommunications Carriers (except Satellite) -> has 97 POIs, processed 97 POIs, 83 visits before clipping, 81 visits after clipping\n",
      "Women's Clothing Stores -> has 104 POIs, processed 104 POIs, 249 visits before clipping, 245 visits after clipping\n",
      "After clipping, 15870 POIs\n",
      "Received 9917 pre-specified POI ids -> missing 0 in dataframe\n",
      "13608 / 238008 hours are null -> filling with 0\n",
      "220333 rows of 2018 1-year ACS data read\n",
      "217739 rows of 2017 5-year ACS data read\n",
      "Received 1098 pre-specified CBG ids\n",
      "FINAL: number of CBGs (N) = 1098, number of POIs (M) = 9917\n",
      "Num connected POI-CBG pairs (E) = 876673, network density (E/N) = 798.427\n",
      "Dwell time correction factors: mean = 0.16, min = 0.01, max = 0.80\n",
      "Correcting POI hourly visit vectors...\n",
      "After correcting, 147652.89 hourly visits\n",
      "Removing 0.617% of people from SafeGraph count who are not in 50 states or DC\n",
      "Total US population from ACS: 322903030; total safegraph visitor count: 46554310; correction factor for POI visits is 6.936\n",
      "2. Processing ACS data...\n",
      "CBGs: median population size = 1590, sum of population sizes = 2048200\n",
      "Attribute p_black: was able to compute for 100.0% out of 1098 CBGs, median is 0.204\n",
      "Attribute p_white: was able to compute for 100.0% out of 1098 CBGs, median is 0.667\n",
      "Attribute median_household_income: was able to compute for 97.6% out of 1098 CBGs, median is 60887.000\n",
      "Loading social distancing metrics for 1 datetimes; using version v2\n",
      "Total time to load social distancing metrics: 7.185 seconds; total rows 219585\n",
      "Giving model daily proportion out for 2020.3.2 to 2020.3.2\n",
      "Total time to prep data: 12.805s\n",
      "1.5% of POIs have at least 50% of visitors coming from non-modeled CBGs\n",
      "Adjusted POI transmission rates with dwell time correction factors\n",
      "Received daily proportions out per CBG\n",
      "Date: 2020-03-02-02, marginals prop positive -> POIs = 0.048, CBGs = 1.000\n"
     ]
    }
   ],
   "source": [
    "# try another hour where it didn't converge\n",
    "dt = datetime.datetime(2020, 3, 2, 2)\n",
    "Z, u, v = prep_safegraph_data_for_ipf(msa_name, dt, msa_df_date_range)\n",
    "print('Date: %s, marginals prop positive -> POIs = %.3f, CBGs = %.3f' % (\n",
    "    dt.strftime('%Y-%m-%d-%H'), np.mean(u > 0), np.mean(v > 0)))"
   ]
  },
  {
   "cell_type": "code",
   "execution_count": 26,
   "metadata": {},
   "outputs": [
    {
     "name": "stdout",
     "output_type": "stream",
     "text": [
      "Found 1098 sets of size 1\n",
      "Finished checks for this set size [time = 0.030s]\n",
      "Found 1 violations\n",
      "CBGs: [826] -> CBG total = 2.8152, POI total = 0.7425\n"
     ]
    }
   ],
   "source": [
    "sets, set_cbg_marginals, set_poi_marginals = test_ipf_convergence_from_cbg_subsets(Z, u, v)"
   ]
  },
  {
   "cell_type": "code",
   "execution_count": 7,
   "metadata": {},
   "outputs": [
    {
     "name": "stdout",
     "output_type": "stream",
     "text": [
      "Loaded 9917 POI and 1098 CBG ids\n",
      "Loaded 16269 rows for Richmond_VA in 4.005 seconds\n",
      "Loaded 15546 rows for Richmond_VA in 9.617 seconds\n",
      "1. Processing SafeGraph data...\n",
      "Found 24 hours in all (2020.3.2.0 to 2020.3.2.23)\n",
      "Clipping areas: True (below=5, above=95), clipping dwell times: True (above=90), clipping visits: True (above=95)\n",
      "Found 121 sub-categories with >= 20 POIs and 43 top categories with >= 20 POIs -> covers 15870 POIs\n",
      "Could not cover 399/16269 POIs (2.5% POIs) -> dropping these POIs\n",
      "Accounting, Tax Preparation, Bookkeeping, and Payroll Services -> has 87 POIs, processed 7 POIs, 7 visits before clipping, 7 visits after clipping\n",
      "Activities Related to Credit Intermediation -> has 28 POIs, processed 28 POIs, 36 visits before clipping, 36 visits after clipping\n",
      "Automotive Equipment Rental and Leasing -> has 72 POIs, processed 16 POIs, 20 visits before clipping, 20 visits after clipping\n",
      "Automotive Parts, Accessories, and Tire Stores -> has 319 POIs, processed 10 POIs, 42 visits before clipping, 42 visits after clipping\n",
      "Automotive Repair and Maintenance -> has 682 POIs, processed 38 POIs, 76 visits before clipping, 76 visits after clipping\n",
      "Beverage Manufacturing -> has 63 POIs, processed 19 POIs, 57 visits before clipping, 57 visits after clipping\n",
      "Building Finishing Contractors -> has 42 POIs, processed 12 POIs, 3 visits before clipping, 3 visits after clipping\n",
      "Building Material and Supplies Dealers -> has 160 POIs, processed 21 POIs, 89 visits before clipping, 88 visits after clipping\n",
      "Clothing Stores -> has 217 POIs, processed 2 POIs, 5 visits before clipping, 5 visits after clipping\n",
      "Commercial and Industrial Machinery and Equipment Rental and Leasing -> has 21 POIs, processed 21 POIs, 58 visits before clipping, 57 visits after clipping\n",
      "Consumer Goods Rental -> has 55 POIs, processed 12 POIs, 107 visits before clipping, 91 visits after clipping\n",
      "Continuing Care Retirement Communities and Assisted Living Facilities for the Elderly -> has 77 POIs, processed 77 POIs, 343 visits before clipping, 334 visits after clipping\n",
      "Death Care Services -> has 29 POIs, processed 2 POIs, 0 visits before clipping, 0 visits after clipping\n",
      "Electric Power Generation, Transmission and Distribution -> has 25 POIs, processed 25 POIs, 35 visits before clipping, 35 visits after clipping\n",
      "Electronics and Appliance Stores -> has 113 POIs, processed 10 POIs, 14 visits before clipping, 14 visits after clipping\n",
      "Hardware, and Plumbing and Heating Equipment and Supplies Merchant Wholesalers -> has 54 POIs, processed 13 POIs, 68 visits before clipping, 68 visits after clipping\n",
      "Health and Personal Care Stores -> has 357 POIs, processed 12 POIs, 66 visits before clipping, 66 visits after clipping\n",
      "Individual and Family Services -> has 54 POIs, processed 25 POIs, 804 visits before clipping, 752 visits after clipping\n",
      "Jewelry, Luggage, and Leather Goods Stores -> has 59 POIs, processed 6 POIs, 7 visits before clipping, 7 visits after clipping\n",
      "Justice, Public Order, and Safety Activities -> has 170 POIs, processed 15 POIs, 73 visits before clipping, 73 visits after clipping\n",
      "Lawn and Garden Equipment and Supplies Stores -> has 58 POIs, processed 16 POIs, 162 visits before clipping, 144 visits after clipping\n",
      "Lessors of Real Estate -> has 50 POIs, processed 3 POIs, 19 visits before clipping, 18 visits after clipping\n",
      "Machinery, Equipment, and Supplies Merchant Wholesalers -> has 50 POIs, processed 50 POIs, 169 visits before clipping, 166 visits after clipping\n",
      "Management, Scientific, and Technical Consulting Services -> has 69 POIs, processed 69 POIs, 97 visits before clipping, 96 visits after clipping\n",
      "Medical and Diagnostic Laboratories -> has 56 POIs, processed 6 POIs, 35 visits before clipping, 34 visits after clipping\n",
      "Miscellaneous Durable Goods Merchant Wholesalers -> has 46 POIs, processed 10 POIs, 33 visits before clipping, 32 visits after clipping\n",
      "Motion Picture and Video Industries -> has 25 POIs, processed 2 POIs, 3 visits before clipping, 3 visits after clipping\n",
      "Museums, Historical Sites, and Similar Institutions -> has 353 POIs, processed 5 POIs, 10 visits before clipping, 10 visits after clipping\n",
      "Nondepository Credit Intermediation -> has 41 POIs, processed 14 POIs, 115 visits before clipping, 112 visits after clipping\n",
      "Offices of Other Health Practitioners -> has 459 POIs, processed 18 POIs, 102 visits before clipping, 93 visits after clipping\n",
      "Other Ambulatory Health Care Services -> has 54 POIs, processed 13 POIs, 46 visits before clipping, 44 visits after clipping\n",
      "Other Amusement and Recreation Industries -> has 481 POIs, processed 21 POIs, 182 visits before clipping, 182 visits after clipping\n",
      "Other Miscellaneous Store Retailers -> has 232 POIs, processed 16 POIs, 55 visits before clipping, 54 visits after clipping\n",
      "Other Motor Vehicle Dealers -> has 54 POIs, processed 23 POIs, 70 visits before clipping, 68 visits after clipping\n",
      "Other Personal Services -> has 102 POIs, processed 14 POIs, 129 visits before clipping, 123 visits after clipping\n",
      "Other Schools and Instruction -> has 218 POIs, processed 2 POIs, 4 visits before clipping, 4 visits after clipping\n",
      "Outpatient Care Centers -> has 52 POIs, processed 24 POIs, 130 visits before clipping, 122 visits after clipping\n",
      "Personal and Household Goods Repair and Maintenance -> has 64 POIs, processed 37 POIs, 81 visits before clipping, 78 visits after clipping\n",
      "Printing and Related Support Activities -> has 25 POIs, processed 25 POIs, 127 visits before clipping, 123 visits after clipping\n",
      "Restaurants and Other Eating Places -> has 2487 POIs, processed 1 POIs, 18 visits before clipping, 18 visits after clipping\n",
      "Specialized Freight Trucking -> has 28 POIs, processed 2 POIs, 0 visits before clipping, 0 visits after clipping\n",
      "Specialty Food Stores -> has 77 POIs, processed 19 POIs, 83 visits before clipping, 82 visits after clipping\n",
      "Waste Treatment and Disposal -> has 21 POIs, processed 1 POIs, 0 visits before clipping, 0 visits after clipping\n",
      "All Other Amusement and Recreation Industries -> has 92 POIs, processed 92 POIs, 434 visits before clipping, 401 visits after clipping\n",
      "All Other Consumer Goods Rental -> has 43 POIs, processed 43 POIs, 176 visits before clipping, 167 visits after clipping\n",
      "All Other General Merchandise Stores -> has 159 POIs, processed 159 POIs, 3024 visits before clipping, 2781 visits after clipping\n",
      "All Other Home Furnishings Stores -> has 46 POIs, processed 46 POIs, 177 visits before clipping, 170 visits after clipping\n",
      "All Other Miscellaneous Ambulatory Health Care Services -> has 41 POIs, processed 41 POIs, 115 visits before clipping, 112 visits after clipping\n",
      "All Other Miscellaneous Schools and Instruction -> has 23 POIs, processed 23 POIs, 42 visits before clipping, 42 visits after clipping\n",
      "All Other Miscellaneous Store Retailers (except Tobacco Stores) -> has 21 POIs, processed 21 POIs, 112 visits before clipping, 108 visits after clipping\n",
      "All Other Personal Services -> has 23 POIs, processed 23 POIs, 11 visits before clipping, 11 visits after clipping\n",
      "Automobile Driving Schools -> has 59 POIs, processed 59 POIs, 463 visits before clipping, 415 visits after clipping\n",
      "Automotive Body, Paint, and Interior Repair and Maintenance -> has 137 POIs, processed 137 POIs, 185 visits before clipping, 180 visits after clipping\n",
      "Automotive Glass Replacement Shops -> has 44 POIs, processed 44 POIs, 129 visits before clipping, 127 visits after clipping\n",
      "Automotive Oil Change and Lubrication Shops -> has 20 POIs, processed 20 POIs, 26 visits before clipping, 25 visits after clipping\n",
      "Automotive Parts and Accessories Stores -> has 309 POIs, processed 309 POIs, 1202 visits before clipping, 1165 visits after clipping\n",
      "Barber Shops -> has 55 POIs, processed 55 POIs, 63 visits before clipping, 60 visits after clipping\n",
      "Beauty Salons -> has 312 POIs, processed 312 POIs, 302 visits before clipping, 275 visits after clipping\n",
      "Beer, Wine, and Liquor Stores -> has 53 POIs, processed 53 POIs, 250 visits before clipping, 243 visits after clipping\n",
      "Book Stores -> has 35 POIs, processed 35 POIs, 169 visits before clipping, 165 visits after clipping\n",
      "Breweries -> has 44 POIs, processed 44 POIs, 235 visits before clipping, 221 visits after clipping\n",
      "Car Washes -> has 80 POIs, processed 80 POIs, 216 visits before clipping, 206 visits after clipping\n",
      "Child Day Care Services -> has 515 POIs, processed 515 POIs, 2648 visits before clipping, 2434 visits after clipping\n",
      "Children's and Infants' Clothing Stores -> has 22 POIs, processed 22 POIs, 47 visits before clipping, 46 visits after clipping\n",
      "Colleges, Universities, and Professional Schools -> has 44 POIs, processed 44 POIs, 862 visits before clipping, 795 visits after clipping\n",
      "Commercial Banking -> has 350 POIs, processed 350 POIs, 1200 visits before clipping, 1074 visits after clipping\n"
     ]
    },
    {
     "name": "stdout",
     "output_type": "stream",
     "text": [
      "Consumer Electronics Repair and Maintenance -> has 21 POIs, processed 21 POIs, 55 visits before clipping, 53 visits after clipping\n",
      "Consumer Lending -> has 27 POIs, processed 27 POIs, 44 visits before clipping, 44 visits after clipping\n",
      "Convenience Stores -> has 164 POIs, processed 164 POIs, 3126 visits before clipping, 2772 visits after clipping\n",
      "Correctional Institutions -> has 28 POIs, processed 28 POIs, 211 visits before clipping, 203 visits after clipping\n",
      "Cosmetics, Beauty Supplies, and Perfume Stores -> has 65 POIs, processed 65 POIs, 84 visits before clipping, 82 visits after clipping\n",
      "Couriers and Express Delivery Services -> has 24 POIs, processed 24 POIs, 160 visits before clipping, 154 visits after clipping\n",
      "Department Stores -> has 51 POIs, processed 51 POIs, 676 visits before clipping, 664 visits after clipping\n",
      "Diet and Weight Reducing Centers -> has 29 POIs, processed 29 POIs, 55 visits before clipping, 53 visits after clipping\n",
      "Drinking Places (Alcoholic Beverages) -> has 126 POIs, processed 126 POIs, 1423 visits before clipping, 822 visits after clipping\n",
      "Electronics Stores -> has 103 POIs, processed 103 POIs, 560 visits before clipping, 538 visits after clipping\n",
      "Elementary and Secondary Schools -> has 320 POIs, processed 320 POIs, 15775 visits before clipping, 14004 visits after clipping\n",
      "Exam Preparation and Tutoring -> has 31 POIs, processed 31 POIs, 89 visits before clipping, 87 visits after clipping\n",
      "Family Clothing Stores -> has 46 POIs, processed 46 POIs, 260 visits before clipping, 242 visits after clipping\n",
      "Fire Protection -> has 94 POIs, processed 94 POIs, 344 visits before clipping, 280 visits after clipping\n",
      "Fish and Seafood Markets -> has 27 POIs, processed 27 POIs, 174 visits before clipping, 165 visits after clipping\n",
      "Fitness and Recreational Sports Centers -> has 330 POIs, processed 330 POIs, 4250 visits before clipping, 3869 visits after clipping\n",
      "Floor Covering Stores -> has 23 POIs, processed 23 POIs, 92 visits before clipping, 91 visits after clipping\n",
      "Florists -> has 62 POIs, processed 62 POIs, 451 visits before clipping, 410 visits after clipping\n",
      "Food (Health) Supplement Stores -> has 34 POIs, processed 34 POIs, 128 visits before clipping, 125 visits after clipping\n",
      "Fruit and Vegetable Markets -> has 31 POIs, processed 31 POIs, 79 visits before clipping, 77 visits after clipping\n",
      "Full-Service Restaurants -> has 1340 POIs, processed 1340 POIs, 10061 visits before clipping, 9177 visits after clipping\n",
      "Funeral Homes and Funeral Services -> has 27 POIs, processed 27 POIs, 13 visits before clipping, 13 visits after clipping\n",
      "Furniture Stores -> has 117 POIs, processed 117 POIs, 465 visits before clipping, 434 visits after clipping\n",
      "Gasoline Stations with Convenience Stores -> has 416 POIs, processed 416 POIs, 3534 visits before clipping, 3206 visits after clipping\n",
      "General Automotive Repair -> has 363 POIs, processed 363 POIs, 708 visits before clipping, 668 visits after clipping\n",
      "General Medical and Surgical Hospitals -> has 21 POIs, processed 21 POIs, 200 visits before clipping, 189 visits after clipping\n",
      "General Warehousing and Storage -> has 23 POIs, processed 23 POIs, 12 visits before clipping, 12 visits after clipping\n",
      "Gift, Novelty, and Souvenir Stores -> has 55 POIs, processed 55 POIs, 339 visits before clipping, 325 visits after clipping\n",
      "Golf Courses and Country Clubs -> has 38 POIs, processed 38 POIs, 740 visits before clipping, 710 visits after clipping\n",
      "Hardware Stores -> has 90 POIs, processed 90 POIs, 1485 visits before clipping, 1437 visits after clipping\n",
      "Hazardous Waste Treatment and Disposal -> has 20 POIs, processed 20 POIs, 61 visits before clipping, 60 visits after clipping\n",
      "Historical Sites -> has 73 POIs, processed 73 POIs, 498 visits before clipping, 470 visits after clipping\n",
      "Hobby, Toy, and Game Stores -> has 54 POIs, processed 54 POIs, 626 visits before clipping, 608 visits after clipping\n",
      "Home Health Care Services -> has 81 POIs, processed 81 POIs, 372 visits before clipping, 320 visits after clipping\n",
      "Hotels (except Casino Hotels) and Motels -> has 188 POIs, processed 188 POIs, 1870 visits before clipping, 1770 visits after clipping\n",
      "Insurance Agencies and Brokerages -> has 346 POIs, processed 346 POIs, 670 visits before clipping, 619 visits after clipping\n",
      "Investment Advice -> has 101 POIs, processed 101 POIs, 165 visits before clipping, 162 visits after clipping\n",
      "Jewelry Stores -> has 53 POIs, processed 53 POIs, 177 visits before clipping, 167 visits after clipping\n",
      "Kidney Dialysis Centers -> has 28 POIs, processed 28 POIs, 32 visits before clipping, 32 visits after clipping\n",
      "Lessors of Miniwarehouses and Self-Storage Units -> has 47 POIs, processed 47 POIs, 57 visits before clipping, 57 visits after clipping\n",
      "Libraries and Archives -> has 56 POIs, processed 56 POIs, 396 visits before clipping, 377 visits after clipping\n",
      "Limited-Service Restaurants -> has 827 POIs, processed 827 POIs, 10851 visits before clipping, 9583 visits after clipping\n",
      "Medical Laboratories -> has 50 POIs, processed 50 POIs, 119 visits before clipping, 113 visits after clipping\n",
      "Men's Clothing Stores -> has 23 POIs, processed 23 POIs, 54 visits before clipping, 53 visits after clipping\n",
      "Miscellaneous Financial Investment Activities -> has 26 POIs, processed 26 POIs, 36 visits before clipping, 35 visits after clipping\n",
      "Motion Picture Theaters (except Drive-Ins) -> has 23 POIs, processed 23 POIs, 117 visits before clipping, 115 visits after clipping\n",
      "Motor Vehicle Towing -> has 87 POIs, processed 87 POIs, 108 visits before clipping, 105 visits after clipping\n",
      "Motorcycle, ATV, and All Other Motor Vehicle Dealers -> has 31 POIs, processed 31 POIs, 110 visits before clipping, 106 visits after clipping\n",
      "Museums -> has 38 POIs, processed 38 POIs, 352 visits before clipping, 321 visits after clipping\n",
      "Musical Instrument and Supplies Stores -> has 45 POIs, processed 45 POIs, 282 visits before clipping, 268 visits after clipping\n",
      "Nail Salons -> has 92 POIs, processed 92 POIs, 80 visits before clipping, 77 visits after clipping\n",
      "Nature Parks and Other Similar Institutions -> has 237 POIs, processed 237 POIs, 1522 visits before clipping, 1328 visits after clipping\n",
      "New Car Dealers -> has 76 POIs, processed 76 POIs, 946 visits before clipping, 921 visits after clipping\n",
      "Nursery, Garden Center, and Farm Supply Stores -> has 42 POIs, processed 42 POIs, 70 visits before clipping, 69 visits after clipping\n",
      "Nursing Care Facilities (Skilled Nursing Facilities) -> has 65 POIs, processed 65 POIs, 469 visits before clipping, 457 visits after clipping\n",
      "Office Supplies and Stationery Stores -> has 55 POIs, processed 55 POIs, 606 visits before clipping, 573 visits after clipping\n",
      "Offices of All Other Miscellaneous Health Practitioners -> has 77 POIs, processed 77 POIs, 175 visits before clipping, 168 visits after clipping\n",
      "Offices of Chiropractors -> has 88 POIs, processed 88 POIs, 202 visits before clipping, 197 visits after clipping\n",
      "Offices of Dentists -> has 508 POIs, processed 508 POIs, 1469 visits before clipping, 1397 visits after clipping\n",
      "Offices of Mental Health Practitioners (except Physicians) -> has 204 POIs, processed 204 POIs, 551 visits before clipping, 525 visits after clipping\n",
      "Offices of Physical, Occupational and Speech Therapists, and Audiologists -> has 72 POIs, processed 72 POIs, 341 visits before clipping, 286 visits after clipping\n",
      "Offices of Physicians (except Mental Health Specialists) -> has 802 POIs, processed 802 POIs, 4120 visits before clipping, 3434 visits after clipping\n",
      "Offices of Real Estate Agents and Brokers -> has 125 POIs, processed 125 POIs, 163 visits before clipping, 157 visits after clipping\n",
      "Optical Goods Stores -> has 109 POIs, processed 109 POIs, 808 visits before clipping, 745 visits after clipping\n",
      "Other Building Finishing Contractors -> has 30 POIs, processed 30 POIs, 74 visits before clipping, 71 visits after clipping\n",
      "Other Clothing Stores -> has 20 POIs, processed 20 POIs, 147 visits before clipping, 140 visits after clipping\n",
      "Other Personal Care Services -> has 177 POIs, processed 177 POIs, 345 visits before clipping, 333 visits after clipping\n",
      "Other Personal and Household Goods Repair and Maintenance -> has 27 POIs, processed 27 POIs, 60 visits before clipping, 59 visits after clipping\n",
      "Paint and Wallpaper Stores -> has 49 POIs, processed 49 POIs, 204 visits before clipping, 190 visits after clipping\n",
      "Passenger Car Rental -> has 56 POIs, processed 56 POIs, 118 visits before clipping, 116 visits after clipping\n",
      "Pet Care (except Veterinary) Services -> has 65 POIs, processed 65 POIs, 191 visits before clipping, 174 visits after clipping\n",
      "Pet and Pet Supplies Stores -> has 125 POIs, processed 125 POIs, 788 visits before clipping, 770 visits after clipping\n",
      "Pharmacies and Drug Stores -> has 137 POIs, processed 137 POIs, 876 visits before clipping, 825 visits after clipping\n",
      "Photography Studios, Portrait -> has 27 POIs, processed 27 POIs, 20 visits before clipping, 20 visits after clipping\n",
      "Plumbing, Heating, and Air-Conditioning Contractors -> has 40 POIs, processed 40 POIs, 71 visits before clipping, 70 visits after clipping\n",
      "Police Protection -> has 33 POIs, processed 33 POIs, 140 visits before clipping, 136 visits after clipping\n",
      "Postal Service -> has 80 POIs, processed 80 POIs, 451 visits before clipping, 442 visits after clipping\n",
      "Regulation and Administration of Transportation Programs -> has 24 POIs, processed 24 POIs, 327 visits before clipping, 318 visits after clipping\n",
      "Religious Organizations -> has 919 POIs, processed 919 POIs, 1511 visits before clipping, 1374 visits after clipping\n",
      "Retail Bakeries -> has 71 POIs, processed 71 POIs, 213 visits before clipping, 206 visits after clipping\n"
     ]
    },
    {
     "name": "stdout",
     "output_type": "stream",
     "text": [
      "Services for the Elderly and Persons with Disabilities -> has 29 POIs, processed 29 POIs, 217 visits before clipping, 202 visits after clipping\n",
      "Sewing, Needlework, and Piece Goods Stores -> has 31 POIs, processed 31 POIs, 251 visits before clipping, 231 visits after clipping\n",
      "Shoe Stores -> has 49 POIs, processed 49 POIs, 153 visits before clipping, 144 visits after clipping\n",
      "Snack and Nonalcoholic Beverage Bars -> has 319 POIs, processed 319 POIs, 4184 visits before clipping, 3083 visits after clipping\n",
      "Specialty (except Psychiatric and Substance Abuse) Hospitals -> has 49 POIs, processed 49 POIs, 256 visits before clipping, 245 visits after clipping\n",
      "Sporting Goods Stores -> has 99 POIs, processed 99 POIs, 789 visits before clipping, 705 visits after clipping\n",
      "Sporting and Recreational Goods and Supplies Merchant Wholesalers -> has 36 POIs, processed 36 POIs, 123 visits before clipping, 117 visits after clipping\n",
      "Sports and Recreation Instruction -> has 103 POIs, processed 103 POIs, 843 visits before clipping, 795 visits after clipping\n",
      "Supermarkets and Other Grocery (except Convenience) Stores -> has 288 POIs, processed 288 POIs, 2469 visits before clipping, 2280 visits after clipping\n",
      "Tax Preparation Services -> has 80 POIs, processed 80 POIs, 188 visits before clipping, 184 visits after clipping\n",
      "Tobacco Stores -> has 70 POIs, processed 70 POIs, 486 visits before clipping, 447 visits after clipping\n",
      "Used Car Dealers -> has 101 POIs, processed 101 POIs, 437 visits before clipping, 398 visits after clipping\n",
      "Used Household and Office Goods Moving -> has 26 POIs, processed 26 POIs, 125 visits before clipping, 116 visits after clipping\n",
      "Used Merchandise Stores -> has 170 POIs, processed 170 POIs, 1253 visits before clipping, 1179 visits after clipping\n",
      "Veterinary Services -> has 134 POIs, processed 134 POIs, 220 visits before clipping, 215 visits after clipping\n",
      "Warm Air Heating and Air-Conditioning Equipment and Supplies Merchant Wholesalers -> has 41 POIs, processed 41 POIs, 156 visits before clipping, 147 visits after clipping\n",
      "Wireless Telecommunications Carriers (except Satellite) -> has 97 POIs, processed 97 POIs, 83 visits before clipping, 81 visits after clipping\n",
      "Women's Clothing Stores -> has 104 POIs, processed 104 POIs, 249 visits before clipping, 245 visits after clipping\n",
      "After clipping, 15870 POIs\n",
      "Received 9917 pre-specified POI ids -> missing 0 in dataframe\n",
      "13608 / 238008 hours are null -> filling with 0\n",
      "220333 rows of 2018 1-year ACS data read\n",
      "217739 rows of 2017 5-year ACS data read\n",
      "Received 1098 pre-specified CBG ids\n",
      "FINAL: number of CBGs (N) = 1098, number of POIs (M) = 9917\n",
      "Num connected POI-CBG pairs (E) = 876673, network density (E/N) = 798.427\n",
      "Dwell time correction factors: mean = 0.16, min = 0.01, max = 0.80\n",
      "Correcting POI hourly visit vectors...\n",
      "After correcting, 147652.89 hourly visits\n",
      "Removing 0.617% of people from SafeGraph count who are not in 50 states or DC\n",
      "Total US population from ACS: 322903030; total safegraph visitor count: 46554310; correction factor for POI visits is 6.936\n",
      "2. Processing ACS data...\n",
      "CBGs: median population size = 1590, sum of population sizes = 2048200\n",
      "Attribute p_black: was able to compute for 100.0% out of 1098 CBGs, median is 0.204\n",
      "Attribute p_white: was able to compute for 100.0% out of 1098 CBGs, median is 0.667\n",
      "Attribute median_household_income: was able to compute for 97.6% out of 1098 CBGs, median is 60887.000\n",
      "Loading social distancing metrics for 1 datetimes; using version v2\n",
      "Total time to load social distancing metrics: 7.071 seconds; total rows 219585\n",
      "Giving model daily proportion out for 2020.3.2 to 2020.3.2\n",
      "Total time to prep data: 13.025s\n",
      "1.5% of POIs have at least 50% of visitors coming from non-modeled CBGs\n",
      "Adjusted POI transmission rates with dwell time correction factors\n",
      "Received daily proportions out per CBG\n",
      "Date: 2020-03-02-00, marginals prop positive -> POIs = 0.031, CBGs = 1.000\n"
     ]
    }
   ],
   "source": [
    "# try an hour where it _did_ converge\n",
    "dt = datetime.datetime(2020, 3, 2, 0)\n",
    "Z, u, v = prep_safegraph_data_for_ipf(msa_name, dt, msa_df_date_range)\n",
    "print('Date: %s, marginals prop positive -> POIs = %.3f, CBGs = %.3f' % (\n",
    "    dt.strftime('%Y-%m-%d-%H'), np.mean(u > 0), np.mean(v > 0)))"
   ]
  },
  {
   "cell_type": "code",
   "execution_count": null,
   "metadata": {},
   "outputs": [
    {
     "name": "stdout",
     "output_type": "stream",
     "text": [
      "Found 1098 sets of size 1\n",
      "Finished checks for this set size [time = 0.032s]\n",
      "Passed all subsets!\n",
      "\n",
      "Found 602253 sets of size 2\n",
      "Finished checks for this set size [time = 57.039s]\n",
      "Passed all subsets!\n",
      "\n",
      "Found 220023096 sets of size 3"
     ]
    }
   ],
   "source": [
    "# there should be no violations\n",
    "test_ipf_convergence_from_cbg_subsets(Z, u, v, max_set_size=3)"
   ]
  },
  {
   "cell_type": "markdown",
   "metadata": {},
   "source": [
    "# Testing toy examples"
   ]
  },
  {
   "cell_type": "code",
   "execution_count": 31,
   "metadata": {},
   "outputs": [],
   "source": [
    "# violation: four rows trying to fit into one column\n",
    "Z = np.array([[0, 1], [0, 1], [0, 1], [0, 1]])\n",
    "u = np.array([1, 1, 1, 1])\n",
    "v = np.array([0.5, 3.5])"
   ]
  },
  {
   "cell_type": "code",
   "execution_count": 32,
   "metadata": {},
   "outputs": [
    {
     "name": "stdout",
     "output_type": "stream",
     "text": [
      "Constructed graph for max flow\n",
      "Finished computing max flow [time=0.00s]\n",
      "Flow value = 3.500, marginal total = 4.000 -> equal = False\n"
     ]
    }
   ],
   "source": [
    "G, f_val, F = test_ipf_convergence_from_max_flow(Z, u, v, return_flow_mat=True)"
   ]
  },
  {
   "cell_type": "code",
   "execution_count": 33,
   "metadata": {},
   "outputs": [
    {
     "data": {
      "text/plain": [
       "array([[0. , 1. ],\n",
       "       [0. , 1. ],\n",
       "       [0. , 1. ],\n",
       "       [0. , 0.5]])"
      ]
     },
     "execution_count": 33,
     "metadata": {},
     "output_type": "execute_result"
    }
   ],
   "source": [
    "F"
   ]
  },
  {
   "cell_type": "code",
   "execution_count": 34,
   "metadata": {
    "scrolled": true
   },
   "outputs": [
    {
     "name": "stdout",
     "output_type": "stream",
     "text": [
      "Iter 0: row err = 0.0000, col err = 1.0000\n",
      "Iter 1: row err = 0.5000, col err = 0.5000\n",
      "Iter 2: row err = 0.0000, col err = 1.0000\n",
      "Iter 3: row err = 0.5000, col err = 0.5000\n",
      "Stuck in oscillation; stopping after 3 iterations\n"
     ]
    }
   ],
   "source": [
    "out = do_ipf(Z, u, v, num_iter=1000)"
   ]
  },
  {
   "cell_type": "code",
   "execution_count": 35,
   "metadata": {},
   "outputs": [
    {
     "name": "stdout",
     "output_type": "stream",
     "text": [
      "Found 4 sets of size 1\n",
      "Finished checks for this set size [time = 0.002s]\n",
      "\n",
      "Found 6 sets of size 2\n",
      "Finished checks for this set size [time = 0.001s]\n",
      "\n",
      "Found 4 sets of size 3\n",
      "Finished checks for this set size [time = 0.001s]\n",
      "\n",
      "Found 1 sets of size 4\n",
      "Finished checks for this set size [time = 0.001s]\n",
      "Found 1 violations\n",
      "Rows: [0 1 2 3] -> row total = 4.0000, col total = 3.5000\n",
      "\n"
     ]
    }
   ],
   "source": [
    "test_ipf_convergence_from_row_subsets(Z, u, v, max_set_size=5, return_early=False)"
   ]
  },
  {
   "cell_type": "code",
   "execution_count": 36,
   "metadata": {},
   "outputs": [
    {
     "data": {
      "text/plain": [
       "{0, 1, 2, 3}"
      ]
     },
     "execution_count": 36,
     "metadata": {},
     "output_type": "execute_result"
    }
   ],
   "source": [
    "rows, cols = find_blocking_row_subset(Z, u, v, F=F)\n",
    "rows"
   ]
  },
  {
   "cell_type": "code",
   "execution_count": 41,
   "metadata": {},
   "outputs": [
    {
     "name": "stdout",
     "output_type": "stream",
     "text": [
      "Constructed graph for max flow\n",
      "Finished computing max flow [time=0.00s]\n",
      "Flow value = 5.100, marginal total = 5.500 -> equal = False\n"
     ]
    }
   ],
   "source": [
    "# violation: single row (2) has marginal larger than columns\n",
    "Z = np.array([[1, 0, 1],\n",
    "              [0, 1, 1],\n",
    "              [0, 0, 1],\n",
    "              [1, 0, 1]])\n",
    "u = np.array([2.5, 2, 0.5, 0.5])\n",
    "v = np.array([3, 2.4, 0.1])\n",
    "\n",
    "G, f_val, F = test_ipf_convergence_from_max_flow(Z, u, v, return_flow_mat=True)"
   ]
  },
  {
   "cell_type": "code",
   "execution_count": 39,
   "metadata": {},
   "outputs": [
    {
     "name": "stdout",
     "output_type": "stream",
     "text": [
      "Found 4 sets of size 1\n",
      "Finished checks for this set size [time = 0.003s]\n",
      "Found 1 violations\n",
      "Rows: [2] -> row total = 0.5000, col total = 0.1000\n",
      "\n",
      "Found 6 sets of size 2\n",
      "Finished checks for this set size [time = 0.001s]\n",
      "\n",
      "Found 4 sets of size 3\n",
      "Finished checks for this set size [time = 0.001s]\n",
      "Found 1 violations\n",
      "Rows: [0 2 3] -> row total = 3.5000, col total = 3.1000\n",
      "\n",
      "Found 1 sets of size 4\n",
      "Finished checks for this set size [time = 0.001s]\n",
      "\n"
     ]
    }
   ],
   "source": [
    "test_ipf_convergence_from_row_subsets(Z, u, v, max_set_size=5, return_early=False)"
   ]
  },
  {
   "cell_type": "code",
   "execution_count": 40,
   "metadata": {},
   "outputs": [
    {
     "data": {
      "text/plain": [
       "{2}"
      ]
     },
     "execution_count": 40,
     "metadata": {},
     "output_type": "execute_result"
    }
   ],
   "source": [
    "rows, cols = find_blocking_row_subset(Z, u, v, F=F)\n",
    "rows"
   ]
  },
  {
   "cell_type": "code",
   "execution_count": 43,
   "metadata": {},
   "outputs": [
    {
     "name": "stdout",
     "output_type": "stream",
     "text": [
      "Constructed graph for max flow\n",
      "Finished computing max flow [time=0.00s]\n",
      "Flow value = 3.000, marginal total = 4.000 -> equal = False\n"
     ]
    }
   ],
   "source": [
    "# violation: 3 rows can't fit into 2 columns; connected graph\n",
    "Z = np.array([[1, 0, 0],\n",
    "              [1, 1, 0],\n",
    "              [0, 1, 0],\n",
    "              [0, 1, 1]])\n",
    "u = np.array([1, 1, 1, 1])\n",
    "v = np.array([1, 1, 2])\n",
    "\n",
    "G, f_val, F = test_ipf_convergence_from_max_flow(Z, u, v, return_flow_mat=True)"
   ]
  },
  {
   "cell_type": "code",
   "execution_count": 44,
   "metadata": {},
   "outputs": [
    {
     "name": "stdout",
     "output_type": "stream",
     "text": [
      "Found 4 sets of size 1\n",
      "Finished checks for this set size [time = 0.002s]\n",
      "\n",
      "Found 6 sets of size 2\n",
      "Finished checks for this set size [time = 0.001s]\n",
      "\n",
      "Found 4 sets of size 3\n",
      "Finished checks for this set size [time = 0.001s]\n",
      "Found 1 violations\n",
      "Rows: [0 1 2] -> row total = 3.0000, col total = 2.0000\n",
      "\n",
      "Found 1 sets of size 4\n",
      "Finished checks for this set size [time = 0.001s]\n",
      "\n"
     ]
    }
   ],
   "source": [
    "test_ipf_convergence_from_row_subsets(Z, u, v, max_set_size=5, return_early=False)"
   ]
  },
  {
   "cell_type": "code",
   "execution_count": 45,
   "metadata": {},
   "outputs": [
    {
     "data": {
      "text/plain": [
       "{0, 1, 2}"
      ]
     },
     "execution_count": 45,
     "metadata": {},
     "output_type": "execute_result"
    }
   ],
   "source": [
    "rows, cols = find_blocking_row_subset(Z, u, v, F=F)\n",
    "rows"
   ]
  }
 ],
 "metadata": {
  "kernelspec": {
   "display_name": "covid_mobility_venv",
   "language": "python",
   "name": "covid_mobility_venv"
  }
 },
 "nbformat": 4,
 "nbformat_minor": 2
}
